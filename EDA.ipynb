{
 "cells": [
  {
   "cell_type": "code",
   "execution_count": 14,
   "metadata": {
    "pycharm": {
     "name": "#%%\n"
    }
   },
   "outputs": [],
   "source": [
    "import math\n",
    "import numpy as np\n",
    "import pandas as pd"
   ]
  },
  {
   "cell_type": "code",
   "execution_count": 132,
   "metadata": {
    "pycharm": {
     "name": "#%%\n"
    }
   },
   "outputs": [
    {
     "data": {
      "text/plain": "(18218, 4)"
     },
     "execution_count": 132,
     "metadata": {},
     "output_type": "execute_result"
    }
   ],
   "source": [
    "df = pd.read_csv(\"data/full_data_EN.csv\")\n",
    "df.shape"
   ]
  },
  {
   "cell_type": "code",
   "execution_count": 90,
   "metadata": {
    "pycharm": {
     "name": "#%%\n"
    }
   },
   "outputs": [
    {
     "data": {
      "text/plain": "   Sentence        Word hierarchical non-hierarchical\n0         0      active  DEFINIENDUM              NaN\n1         0        cave  DEFINIENDUM              NaN\n2         0           :          NaN              NaN\n3         0        Cave        GENUS              NaN\n4         0  containing          NaN     HAS_FUNCTION",
      "text/html": "<div>\n<style scoped>\n    .dataframe tbody tr th:only-of-type {\n        vertical-align: middle;\n    }\n\n    .dataframe tbody tr th {\n        vertical-align: top;\n    }\n\n    .dataframe thead th {\n        text-align: right;\n    }\n</style>\n<table border=\"1\" class=\"dataframe\">\n  <thead>\n    <tr style=\"text-align: right;\">\n      <th></th>\n      <th>Sentence</th>\n      <th>Word</th>\n      <th>hierarchical</th>\n      <th>non-hierarchical</th>\n    </tr>\n  </thead>\n  <tbody>\n    <tr>\n      <th>0</th>\n      <td>0</td>\n      <td>active</td>\n      <td>DEFINIENDUM</td>\n      <td>NaN</td>\n    </tr>\n    <tr>\n      <th>1</th>\n      <td>0</td>\n      <td>cave</td>\n      <td>DEFINIENDUM</td>\n      <td>NaN</td>\n    </tr>\n    <tr>\n      <th>2</th>\n      <td>0</td>\n      <td>:</td>\n      <td>NaN</td>\n      <td>NaN</td>\n    </tr>\n    <tr>\n      <th>3</th>\n      <td>0</td>\n      <td>Cave</td>\n      <td>GENUS</td>\n      <td>NaN</td>\n    </tr>\n    <tr>\n      <th>4</th>\n      <td>0</td>\n      <td>containing</td>\n      <td>NaN</td>\n      <td>HAS_FUNCTION</td>\n    </tr>\n  </tbody>\n</table>\n</div>"
     },
     "execution_count": 90,
     "metadata": {},
     "output_type": "execute_result"
    }
   ],
   "source": [
    "df.head()"
   ]
  },
  {
   "cell_type": "code",
   "execution_count": null,
   "outputs": [],
   "source": [],
   "metadata": {
    "collapsed": false,
    "pycharm": {
     "name": "#%%\n"
    }
   }
  },
  {
   "cell_type": "code",
   "execution_count": 106,
   "outputs": [
    {
     "data": {
      "text/plain": "NaN                   7936\nHAS_CAUSE             2158\nHAS_LOCATION          1832\nHAS_FORM              1741\nCOMPOSITION_MEDIUM     923\nHAS_FUNCTION           885\nCONTAINS               604\nHAS_SIZE               581\nDEFINED_AS             527\nHAS_ATTRIBUTE          356\nHAS_RESULT             200\nOCCURS_IN_TIME         154\nMEASURES               123\nHAS_POSITION           105\nSTUDIES                 73\nAFFECTS                 17\nOCCURS_IN_MEDIUM         3\nName: non-hierarchical, dtype: int64"
     },
     "execution_count": 106,
     "metadata": {},
     "output_type": "execute_result"
    }
   ],
   "source": [
    "# number of non-hierarchical tags\n",
    "df['non-hierarchical'].value_counts(dropna=False)"
   ],
   "metadata": {
    "collapsed": false,
    "pycharm": {
     "name": "#%%\n"
    }
   }
  },
  {
   "cell_type": "code",
   "execution_count": 107,
   "metadata": {
    "pycharm": {
     "name": "#%%\n"
    }
   },
   "outputs": [
    {
     "data": {
      "text/plain": "Sentence                0\nWord                    0\nnon-hierarchical     7936\nhierarchical        15253\ndtype: int64"
     },
     "execution_count": 107,
     "metadata": {},
     "output_type": "execute_result"
    }
   ],
   "source": [
    "# number of missing values in each colum\n",
    "df.isna().sum().sort_values()"
   ]
  },
  {
   "cell_type": "code",
   "execution_count": 108,
   "outputs": [
    {
     "data": {
      "text/plain": "745"
     },
     "execution_count": 108,
     "metadata": {},
     "output_type": "execute_result"
    }
   ],
   "source": [
    "# number of different sentences\n",
    "df['Sentence'].nunique()"
   ],
   "metadata": {
    "collapsed": false,
    "pycharm": {
     "name": "#%%\n"
    }
   }
  },
  {
   "cell_type": "code",
   "execution_count": 109,
   "outputs": [
    {
     "data": {
      "text/plain": "hierarchical\nDEFINIENDUM    741\nGENUS          615\nDEFINITOR      275\nName: Sentence, dtype: int64"
     },
     "execution_count": 109,
     "metadata": {},
     "output_type": "execute_result"
    }
   ],
   "source": [
    "# number of sentences with each hierarchical tag\n",
    "df.groupby('hierarchical')['Sentence'].nunique().sort_values(ascending=False)"
   ],
   "metadata": {
    "collapsed": false,
    "pycharm": {
     "name": "#%%\n"
    }
   }
  },
  {
   "cell_type": "code",
   "execution_count": 110,
   "outputs": [
    {
     "data": {
      "text/plain": "non-hierarchical\nHAS_FORM              288\nHAS_LOCATION          282\nHAS_CAUSE             222\nCOMPOSITION_MEDIUM    157\nHAS_FUNCTION          101\nHAS_SIZE              100\nCONTAINS               75\nHAS_ATTRIBUTE          56\nDEFINED_AS             48\nHAS_RESULT             21\nHAS_POSITION           18\nOCCURS_IN_TIME         16\nMEASURES               10\nSTUDIES                 7\nAFFECTS                 2\nOCCURS_IN_MEDIUM        1\nName: Sentence, dtype: int64"
     },
     "execution_count": 110,
     "metadata": {},
     "output_type": "execute_result"
    }
   ],
   "source": [
    "# number of sentences with each non-hierarchical tag\n",
    "df.groupby('non-hierarchical')['Sentence'].nunique().sort_values(ascending=False)"
   ],
   "metadata": {
    "collapsed": false,
    "pycharm": {
     "name": "#%%\n"
    }
   }
  },
  {
   "cell_type": "code",
   "execution_count": 114,
   "metadata": {
    "pycharm": {
     "name": "#%%\n"
    }
   },
   "outputs": [
    {
     "data": {
      "text/plain": "Sentence\n51     Dolines are also sometimes known as sinkholes ...\n433    In the first edition of their book ( Ford & Wi...\n589    column : A flowstone formation , generally cyl...\n741        creating coatings , waterfalls and canopies .\nName: Word, dtype: object"
     },
     "execution_count": 114,
     "metadata": {},
     "output_type": "execute_result"
    }
   ],
   "source": [
    "# find sentences without definiendum. 4 sentences don't have definiendum (745 - 741). check those\n",
    "idx = df.groupby('Sentence')['hierarchical'].agg(lambda x: 'DEFINIENDUM' not in list(x))\n",
    "idx = idx[idx==True].index\n",
    "df[df['Sentence'].isin(idx)].groupby('Sentence')['Word'].agg(lambda x: ' '.join(list(x)))"
   ]
  },
  {
   "cell_type": "code",
   "execution_count": 32,
   "metadata": {
    "pycharm": {
     "name": "#%%\n"
    }
   },
   "outputs": [],
   "source": [
    "# remove sentences without definiendum\n",
    "df = df[~df['Sentence'].isin(idx)]"
   ]
  },
  {
   "cell_type": "markdown",
   "source": [
    "## Check if hierarchical tag coincides with non-hierarchical"
   ],
   "metadata": {
    "collapsed": false,
    "pycharm": {
     "name": "#%% md\n"
    }
   }
  },
  {
   "cell_type": "code",
   "execution_count": 125,
   "outputs": [],
   "source": [
    "cc = df[(~df['hierarchical'].isna()) & (~df['non-hierarchical'].isna())]"
   ],
   "metadata": {
    "collapsed": false,
    "pycharm": {
     "name": "#%%\n"
    }
   }
  },
  {
   "cell_type": "code",
   "execution_count": 126,
   "outputs": [
    {
     "data": {
      "text/plain": "GENUS          415\nDEFINIENDUM      7\nDEFINITOR        7\nName: hierarchical, dtype: int64"
     },
     "execution_count": 126,
     "metadata": {},
     "output_type": "execute_result"
    }
   ],
   "source": [
    "# number of words that each hierarchical tag coincides\n",
    "cc['hierarchical'].value_counts()"
   ],
   "metadata": {
    "collapsed": false,
    "pycharm": {
     "name": "#%%\n"
    }
   }
  },
  {
   "cell_type": "code",
   "execution_count": 127,
   "outputs": [
    {
     "data": {
      "text/plain": "hierarchical\nGENUS          200\nDEFINITOR        5\nDEFINIENDUM      3\nName: Sentence, dtype: int64"
     },
     "execution_count": 127,
     "metadata": {},
     "output_type": "execute_result"
    }
   ],
   "source": [
    "# check number of sentences that each non-hieararchical tag coincides\n",
    "cc.groupby('hierarchical')['Sentence'].nunique().sort_values(ascending=False)"
   ],
   "metadata": {
    "collapsed": false,
    "pycharm": {
     "name": "#%%\n"
    }
   }
  },
  {
   "cell_type": "markdown",
   "source": [
    "Its mostly just GENUS that coincides with another non-hierarchical tag"
   ],
   "metadata": {
    "collapsed": false,
    "pycharm": {
     "name": "#%% md\n"
    }
   }
  },
  {
   "cell_type": "code",
   "execution_count": 128,
   "outputs": [
    {
     "data": {
      "text/plain": "      Sentence        Word hierarchical non-hierarchical\n7072       287  bowlshaped  DEFINIENDUM        HAS_CAUSE\n7073       287      doline  DEFINIENDUM        HAS_CAUSE",
      "text/html": "<div>\n<style scoped>\n    .dataframe tbody tr th:only-of-type {\n        vertical-align: middle;\n    }\n\n    .dataframe tbody tr th {\n        vertical-align: top;\n    }\n\n    .dataframe thead th {\n        text-align: right;\n    }\n</style>\n<table border=\"1\" class=\"dataframe\">\n  <thead>\n    <tr style=\"text-align: right;\">\n      <th></th>\n      <th>Sentence</th>\n      <th>Word</th>\n      <th>hierarchical</th>\n      <th>non-hierarchical</th>\n    </tr>\n  </thead>\n  <tbody>\n    <tr>\n      <th>7072</th>\n      <td>287</td>\n      <td>bowlshaped</td>\n      <td>DEFINIENDUM</td>\n      <td>HAS_CAUSE</td>\n    </tr>\n    <tr>\n      <th>7073</th>\n      <td>287</td>\n      <td>doline</td>\n      <td>DEFINIENDUM</td>\n      <td>HAS_CAUSE</td>\n    </tr>\n  </tbody>\n</table>\n</div>"
     },
     "execution_count": 128,
     "metadata": {},
     "output_type": "execute_result"
    }
   ],
   "source": [
    "# check words on which definiendum coincides with top 4 (most frequent) non-hier tags\n",
    "cc[(cc['hierarchical'].isin(['DEFINIENDUM'])) & (cc['non-hierarchical'].isin(['HAS_CAUSE', 'HAS_LOCATION', 'HAS_CAUSE', 'COMPOSITION_MEDIUM']))]"
   ],
   "metadata": {
    "collapsed": false,
    "pycharm": {
     "name": "#%%\n"
    }
   }
  },
  {
   "cell_type": "code",
   "execution_count": 131,
   "outputs": [
    {
     "name": "stdout",
     "output_type": "stream",
     "text": [
      "In instances where dissolution is the prevailing mechanism , a bowlshaped doline will probably form .\n"
     ]
    }
   ],
   "source": [
    "# check sentence with definiendum coinciding (there's only one)\n",
    "print(' '.join(df[df['Sentence'].isin([287])]['Word'].values))"
   ],
   "metadata": {
    "collapsed": false,
    "pycharm": {
     "name": "#%%\n"
    }
   }
  },
  {
   "cell_type": "markdown",
   "source": [
    "# Prepare dataframe for training"
   ],
   "metadata": {
    "collapsed": false,
    "pycharm": {
     "name": "#%% md\n"
    }
   }
  },
  {
   "cell_type": "markdown",
   "source": [
    "One data frame will have hierarchical tags (DEFINIENDUM , GENUS, DEFINITOR),\n",
    "the other frame will have non-hierarchical tags (most frequent - HAS_FORM, HAS_CAUSE, HAS_LOCATION, COMPOSITION_MEDIUM) + DEFINIENDUM\n",
    "Two frames are needed, because sometimes GENUS and some hierarchical tag are coinciding."
   ],
   "metadata": {
    "collapsed": false,
    "pycharm": {
     "name": "#%% md\n"
    }
   }
  },
  {
   "cell_type": "markdown",
   "source": [
    "## Hierarchical frame"
   ],
   "metadata": {
    "collapsed": false,
    "pycharm": {
     "name": "#%% md\n"
    }
   }
  },
  {
   "cell_type": "code",
   "execution_count": 34,
   "outputs": [
    {
     "data": {
      "text/plain": "Sentence        0\nWord            0\nTag         15149\ndtype: int64"
     },
     "execution_count": 34,
     "metadata": {},
     "output_type": "execute_result"
    }
   ],
   "source": [
    "df_h = df.rename(columns={'hierarchical': 'Tag'}).drop(columns=['non-hierarchical'])\n",
    "df_h.isna().sum()"
   ],
   "metadata": {
    "collapsed": false,
    "pycharm": {
     "name": "#%%\n"
    }
   }
  },
  {
   "cell_type": "code",
   "execution_count": 36,
   "outputs": [],
   "source": [
    "# fill nans with 'O' - Other\n",
    "df_h = df_h.fillna('O')"
   ],
   "metadata": {
    "collapsed": false,
    "pycharm": {
     "name": "#%%\n"
    }
   }
  },
  {
   "cell_type": "code",
   "execution_count": 38,
   "outputs": [
    {
     "data": {
      "text/plain": "O              15149\nDEFINIENDUM     1245\nGENUS           1078\nDEFINITOR        640\nName: Tag, dtype: int64"
     },
     "execution_count": 38,
     "metadata": {},
     "output_type": "execute_result"
    }
   ],
   "source": [
    "df_h['Tag'].value_counts()"
   ],
   "metadata": {
    "collapsed": false,
    "pycharm": {
     "name": "#%%\n"
    }
   }
  },
  {
   "cell_type": "code",
   "execution_count": 39,
   "outputs": [
    {
     "data": {
      "text/plain": "   Sentence        Word          Tag\n0         0      active  DEFINIENDUM\n1         0        cave  DEFINIENDUM\n2         0           :            O\n3         0        Cave        GENUS\n4         0  containing            O",
      "text/html": "<div>\n<style scoped>\n    .dataframe tbody tr th:only-of-type {\n        vertical-align: middle;\n    }\n\n    .dataframe tbody tr th {\n        vertical-align: top;\n    }\n\n    .dataframe thead th {\n        text-align: right;\n    }\n</style>\n<table border=\"1\" class=\"dataframe\">\n  <thead>\n    <tr style=\"text-align: right;\">\n      <th></th>\n      <th>Sentence</th>\n      <th>Word</th>\n      <th>Tag</th>\n    </tr>\n  </thead>\n  <tbody>\n    <tr>\n      <th>0</th>\n      <td>0</td>\n      <td>active</td>\n      <td>DEFINIENDUM</td>\n    </tr>\n    <tr>\n      <th>1</th>\n      <td>0</td>\n      <td>cave</td>\n      <td>DEFINIENDUM</td>\n    </tr>\n    <tr>\n      <th>2</th>\n      <td>0</td>\n      <td>:</td>\n      <td>O</td>\n    </tr>\n    <tr>\n      <th>3</th>\n      <td>0</td>\n      <td>Cave</td>\n      <td>GENUS</td>\n    </tr>\n    <tr>\n      <th>4</th>\n      <td>0</td>\n      <td>containing</td>\n      <td>O</td>\n    </tr>\n  </tbody>\n</table>\n</div>"
     },
     "execution_count": 39,
     "metadata": {},
     "output_type": "execute_result"
    }
   ],
   "source": [
    "df_h.head()"
   ],
   "metadata": {
    "collapsed": false,
    "pycharm": {
     "name": "#%%\n"
    }
   }
  },
  {
   "cell_type": "code",
   "execution_count": 40,
   "outputs": [],
   "source": [
    "# save as csv\n",
    "df_h.to_csv('data/karst_hierarchical_EN.csv', index=False)"
   ],
   "metadata": {
    "collapsed": false,
    "pycharm": {
     "name": "#%%\n"
    }
   }
  },
  {
   "cell_type": "markdown",
   "source": [
    "## Non-hierarchical dataframe"
   ],
   "metadata": {
    "collapsed": false,
    "pycharm": {
     "name": "#%% md\n"
    }
   }
  },
  {
   "cell_type": "code",
   "execution_count": 43,
   "outputs": [],
   "source": [
    "df_nh = df.copy()\n",
    "# take the definiendum or the non-hierarchical tag\n",
    "df_nh['Tag'] = df.apply(lambda x: x['hierarchical'] if x['hierarchical'] == 'DEFINIENDUM' else x['non-hierarchical'], axis=1)"
   ],
   "metadata": {
    "collapsed": false,
    "pycharm": {
     "name": "#%%\n"
    }
   }
  },
  {
   "cell_type": "code",
   "execution_count": 56,
   "outputs": [],
   "source": [
    "# only take the most common non-hierarchical tags\n",
    "df_nh.loc[df_nh['non-hierarchical'].isin([' HAS_FORM' 'HAS_LOCATION' 'HAS_CAUSE']), 'Tag'] = np.nan"
   ],
   "metadata": {
    "collapsed": false,
    "pycharm": {
     "name": "#%%\n"
    }
   }
  },
  {
   "cell_type": "code",
   "execution_count": 59,
   "outputs": [],
   "source": [
    "# drop unwanted columns\n",
    "df_nh = df_nh.drop(columns=['hierarchical', 'non-hierarchical'], errors='ignore')"
   ],
   "metadata": {
    "collapsed": false,
    "pycharm": {
     "name": "#%%\n"
    }
   }
  },
  {
   "cell_type": "code",
   "execution_count": 60,
   "outputs": [],
   "source": [
    "# fill nan tags with 'O' - Other\n",
    "df_nh['Tag'] = df_nh['Tag'].fillna('O')"
   ],
   "metadata": {
    "collapsed": false,
    "pycharm": {
     "name": "#%%\n"
    }
   }
  },
  {
   "cell_type": "code",
   "execution_count": 61,
   "outputs": [
    {
     "data": {
      "text/plain": "Sentence    0\nWord        0\nTag         0\ndtype: int64"
     },
     "execution_count": 61,
     "metadata": {},
     "output_type": "execute_result"
    }
   ],
   "source": [
    "# sanity check\n",
    "df_nh.isna().sum()"
   ],
   "metadata": {
    "collapsed": false,
    "pycharm": {
     "name": "#%%\n"
    }
   }
  },
  {
   "cell_type": "code",
   "execution_count": 62,
   "outputs": [],
   "source": [
    "df_nh.to_csv('data/karst_nonhierarchical_EN.csv', index=False)"
   ],
   "metadata": {
    "collapsed": false,
    "pycharm": {
     "name": "#%%\n"
    }
   }
  },
  {
   "cell_type": "markdown",
   "source": [
    "# NEW DATA"
   ],
   "metadata": {
    "collapsed": false,
    "pycharm": {
     "name": "#%% md\n"
    }
   }
  },
  {
   "cell_type": "code",
   "execution_count": 69,
   "outputs": [
    {
     "data": {
      "text/plain": "(2189, 4)"
     },
     "execution_count": 69,
     "metadata": {},
     "output_type": "execute_result"
    }
   ],
   "source": [
    "df = pd.read_csv(\"data/full_data_new.csv\")\n",
    "df.shape"
   ],
   "metadata": {
    "collapsed": false,
    "pycharm": {
     "name": "#%%\n"
    }
   }
  },
  {
   "cell_type": "code",
   "execution_count": 70,
   "outputs": [
    {
     "data": {
      "text/plain": "array(['DEFINIENDUM', 'DEFINITOR', 'GENUS', nan], dtype=object)"
     },
     "execution_count": 70,
     "metadata": {},
     "output_type": "execute_result"
    }
   ],
   "source": [
    "df['hierarchical'].unique()"
   ],
   "metadata": {
    "collapsed": false,
    "pycharm": {
     "name": "#%%\n"
    }
   }
  },
  {
   "cell_type": "code",
   "execution_count": 71,
   "outputs": [
    {
     "data": {
      "text/plain": "non-hierarchical\nHAS_CAUSE             31\nHAS_LOCATION          26\nCOMPOSITION_MEDIUM    24\nHAS_FORM              20\nHAS_RESULT            15\nHAS_FUNCTION          14\nHAS_ATTRIBUTE         12\nHAS_SIZE              11\nCONTAINS               6\nMEASURES               5\nDEFINED_AS             4\nOCCURS_IN_TIME         2\nAFFECTS                2\nSTUDIES                1\nName: Sentence, dtype: int64"
     },
     "execution_count": 71,
     "metadata": {},
     "output_type": "execute_result"
    }
   ],
   "source": [
    "df.groupby('non-hierarchical')['Sentence'].nunique().sort_values(ascending=False)"
   ],
   "metadata": {
    "collapsed": false,
    "pycharm": {
     "name": "#%%\n"
    }
   }
  },
  {
   "cell_type": "code",
   "execution_count": null,
   "outputs": [],
   "source": [
    "import pandas as pd"
   ],
   "metadata": {
    "collapsed": false,
    "pycharm": {
     "name": "#%%\n"
    }
   }
  },
  {
   "cell_type": "code",
   "execution_count": null,
   "outputs": [],
   "source": [
    "df1= pd.read_csv('data/experiments/EN_def+gen_btag/allenai_scibert_scivocab_cased/annotation.csv')"
   ],
   "metadata": {
    "collapsed": false,
    "pycharm": {
     "name": "#%%\n"
    }
   }
  },
  {
   "cell_type": "code",
   "execution_count": null,
   "outputs": [],
   "source": [
    "df2 = pd.read_csv('data/experiments/EN_def+gen_btag/test.csv')"
   ],
   "metadata": {
    "collapsed": false,
    "pycharm": {
     "name": "#%%\n"
    }
   }
  },
  {
   "cell_type": "code",
   "execution_count": null,
   "outputs": [],
   "source": [
    "for sentence_id in df1['Sentence'].unique():\n",
    "    words1 = df1[df1['Sentence'] == sentence_id]['Word']\n",
    "    words2 = df2[df2['Sentence'] == sentence_id]['Word']\n",
    "    for w1, w2 in zip(words1, words2):\n",
    "        if w1 != w2:\n",
    "            print(sentence_id, w1, w2)\n",
    "            break"
   ],
   "metadata": {
    "collapsed": false,
    "pycharm": {
     "name": "#%%\n"
    }
   }
  },
  {
   "cell_type": "code",
   "execution_count": null,
   "outputs": [],
   "source": [
    "df1[df1['Sentence']>=65]"
   ],
   "metadata": {
    "collapsed": false,
    "pycharm": {
     "name": "#%%\n"
    }
   }
  },
  {
   "cell_type": "code",
   "execution_count": null,
   "outputs": [],
   "source": [
    "df2[df2['Sentence']>=65]"
   ],
   "metadata": {
    "collapsed": false,
    "pycharm": {
     "name": "#%%\n"
    }
   }
  },
  {
   "cell_type": "code",
   "execution_count": null,
   "outputs": [],
   "source": [],
   "metadata": {
    "collapsed": false,
    "pycharm": {
     "name": "#%%\n"
    }
   }
  },
  {
   "cell_type": "code",
   "execution_count": 3,
   "outputs": [],
   "source": [
    "df1= pd.read_csv('data/experiments/EN_def+gen_btag/allenai_scibert_scivocab_cased/annotation.csv')"
   ],
   "metadata": {
    "collapsed": false,
    "pycharm": {
     "name": "#%%\n"
    }
   }
  },
  {
   "cell_type": "code",
   "execution_count": 4,
   "outputs": [],
   "source": [
    "df2 = pd.read_csv('data/experiments/EN_def+gen_btag/test.csv')"
   ],
   "metadata": {
    "collapsed": false,
    "pycharm": {
     "name": "#%%\n"
    }
   }
  },
  {
   "cell_type": "code",
   "execution_count": 38,
   "outputs": [
    {
     "name": "stdout",
     "output_type": "stream",
     "text": [
      "63 0 0.002\n",
      "65 15 15%\n",
      "67 ##outh baymouth\n",
      "73 sediments-mainly sediments\n",
      "91 earth earth's\n"
     ]
    }
   ],
   "source": [
    "for sentence_id in df1['Sentence'].unique():\n",
    "    words1 = df1[df1['Sentence'] == sentence_id]['Word']\n",
    "    words2 = df2[df2['Sentence'] == sentence_id]['Word']\n",
    "    for w1, w2 in zip(words1, words2):\n",
    "        if w1 != w2:\n",
    "            print(sentence_id, w1, w2)\n",
    "            break"
   ],
   "metadata": {
    "collapsed": false,
    "pycharm": {
     "name": "#%%\n"
    }
   }
  },
  {
   "cell_type": "code",
   "execution_count": 32,
   "outputs": [
    {
     "data": {
      "text/plain": "      Sentence          Word            Tag\n1354        65           The              O\n1355        65          term              O\n1356        65       arenite  B-DEFINIENDUM\n1357        65       applies              O\n1358        65            to              O\n...        ...           ...            ...\n2185       102  metamorphism              O\n2186       102            of              O\n2187       102      volcanic              O\n2188       102         rocks              O\n2189       102             .              O\n\n[836 rows x 3 columns]",
      "text/html": "<div>\n<style scoped>\n    .dataframe tbody tr th:only-of-type {\n        vertical-align: middle;\n    }\n\n    .dataframe tbody tr th {\n        vertical-align: top;\n    }\n\n    .dataframe thead th {\n        text-align: right;\n    }\n</style>\n<table border=\"1\" class=\"dataframe\">\n  <thead>\n    <tr style=\"text-align: right;\">\n      <th></th>\n      <th>Sentence</th>\n      <th>Word</th>\n      <th>Tag</th>\n    </tr>\n  </thead>\n  <tbody>\n    <tr>\n      <th>1354</th>\n      <td>65</td>\n      <td>The</td>\n      <td>O</td>\n    </tr>\n    <tr>\n      <th>1355</th>\n      <td>65</td>\n      <td>term</td>\n      <td>O</td>\n    </tr>\n    <tr>\n      <th>1356</th>\n      <td>65</td>\n      <td>arenite</td>\n      <td>B-DEFINIENDUM</td>\n    </tr>\n    <tr>\n      <th>1357</th>\n      <td>65</td>\n      <td>applies</td>\n      <td>O</td>\n    </tr>\n    <tr>\n      <th>1358</th>\n      <td>65</td>\n      <td>to</td>\n      <td>O</td>\n    </tr>\n    <tr>\n      <th>...</th>\n      <td>...</td>\n      <td>...</td>\n      <td>...</td>\n    </tr>\n    <tr>\n      <th>2185</th>\n      <td>102</td>\n      <td>metamorphism</td>\n      <td>O</td>\n    </tr>\n    <tr>\n      <th>2186</th>\n      <td>102</td>\n      <td>of</td>\n      <td>O</td>\n    </tr>\n    <tr>\n      <th>2187</th>\n      <td>102</td>\n      <td>volcanic</td>\n      <td>O</td>\n    </tr>\n    <tr>\n      <th>2188</th>\n      <td>102</td>\n      <td>rocks</td>\n      <td>O</td>\n    </tr>\n    <tr>\n      <th>2189</th>\n      <td>102</td>\n      <td>.</td>\n      <td>O</td>\n    </tr>\n  </tbody>\n</table>\n<p>836 rows × 3 columns</p>\n</div>"
     },
     "execution_count": 32,
     "metadata": {},
     "output_type": "execute_result"
    }
   ],
   "source": [
    "df1[df1['Sentence']>=65]"
   ],
   "metadata": {
    "collapsed": false,
    "pycharm": {
     "name": "#%%\n"
    }
   }
  },
  {
   "cell_type": "code",
   "execution_count": 31,
   "outputs": [
    {
     "data": {
      "text/plain": "      Sentence          Word            Tag\n1352        65           The              O\n1353        65          term              O\n1354        65       arenite  B-DEFINIENDUM\n1355        65       applies              O\n1356        65            to              O\n...        ...           ...            ...\n2184       102  metamorphism              O\n2185       102            of              O\n2186       102      volcanic              O\n2187       102         rocks              O\n2188       102             .              O\n\n[837 rows x 3 columns]",
      "text/html": "<div>\n<style scoped>\n    .dataframe tbody tr th:only-of-type {\n        vertical-align: middle;\n    }\n\n    .dataframe tbody tr th {\n        vertical-align: top;\n    }\n\n    .dataframe thead th {\n        text-align: right;\n    }\n</style>\n<table border=\"1\" class=\"dataframe\">\n  <thead>\n    <tr style=\"text-align: right;\">\n      <th></th>\n      <th>Sentence</th>\n      <th>Word</th>\n      <th>Tag</th>\n    </tr>\n  </thead>\n  <tbody>\n    <tr>\n      <th>1352</th>\n      <td>65</td>\n      <td>The</td>\n      <td>O</td>\n    </tr>\n    <tr>\n      <th>1353</th>\n      <td>65</td>\n      <td>term</td>\n      <td>O</td>\n    </tr>\n    <tr>\n      <th>1354</th>\n      <td>65</td>\n      <td>arenite</td>\n      <td>B-DEFINIENDUM</td>\n    </tr>\n    <tr>\n      <th>1355</th>\n      <td>65</td>\n      <td>applies</td>\n      <td>O</td>\n    </tr>\n    <tr>\n      <th>1356</th>\n      <td>65</td>\n      <td>to</td>\n      <td>O</td>\n    </tr>\n    <tr>\n      <th>...</th>\n      <td>...</td>\n      <td>...</td>\n      <td>...</td>\n    </tr>\n    <tr>\n      <th>2184</th>\n      <td>102</td>\n      <td>metamorphism</td>\n      <td>O</td>\n    </tr>\n    <tr>\n      <th>2185</th>\n      <td>102</td>\n      <td>of</td>\n      <td>O</td>\n    </tr>\n    <tr>\n      <th>2186</th>\n      <td>102</td>\n      <td>volcanic</td>\n      <td>O</td>\n    </tr>\n    <tr>\n      <th>2187</th>\n      <td>102</td>\n      <td>rocks</td>\n      <td>O</td>\n    </tr>\n    <tr>\n      <th>2188</th>\n      <td>102</td>\n      <td>.</td>\n      <td>O</td>\n    </tr>\n  </tbody>\n</table>\n<p>837 rows × 3 columns</p>\n</div>"
     },
     "execution_count": 31,
     "metadata": {},
     "output_type": "execute_result"
    }
   ],
   "source": [
    "df2[df2['Sentence']>=65]"
   ],
   "metadata": {
    "collapsed": false,
    "pycharm": {
     "name": "#%%\n"
    }
   }
  },
  {
   "cell_type": "code",
   "execution_count": null,
   "outputs": [],
   "source": [],
   "metadata": {
    "collapsed": false,
    "pycharm": {
     "name": "#%%\n"
    }
   }
  }
 ],
 "metadata": {
  "interpreter": {
   "hash": "70646877a3894de9320ddea30d1ee5dabe01c74c6a8dfc54e03d0841f939a545"
  },
  "kernelspec": {
   "display_name": "Python 3.8.13 ('nlpfri')",
   "language": "python",
   "name": "python3"
  },
  "language_info": {
   "codemirror_mode": {
    "name": "ipython",
    "version": 3
   },
   "file_extension": ".py",
   "mimetype": "text/x-python",
   "name": "python",
   "nbconvert_exporter": "python",
   "pygments_lexer": "ipython3",
   "version": "3.8.13"
  },
  "orig_nbformat": 4
 },
 "nbformat": 4,
 "nbformat_minor": 2
}