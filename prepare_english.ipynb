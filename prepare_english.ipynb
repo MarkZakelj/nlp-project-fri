{
 "cells": [
  {
   "cell_type": "code",
   "execution_count": 37,
   "metadata": {
    "pycharm": {
     "name": "#%%\n"
    }
   },
   "outputs": [],
   "source": [
    "import math\n",
    "\n",
    "import numpy as np\n",
    "import pandas as pd"
   ]
  },
  {
   "cell_type": "code",
   "execution_count": 3,
   "metadata": {
    "pycharm": {
     "name": "#%%\n"
    }
   },
   "outputs": [
    {
     "data": {
      "text/plain": "(18218, 4)"
     },
     "execution_count": 3,
     "metadata": {},
     "output_type": "execute_result"
    }
   ],
   "source": [
    "df = pd.read_csv(\"data/full_data.csv\")\n",
    "df.shape"
   ]
  },
  {
   "cell_type": "markdown",
   "source": [
    "# Corrections"
   ],
   "metadata": {
    "collapsed": false,
    "pycharm": {
     "name": "#%% md\n"
    }
   }
  },
  {
   "cell_type": "code",
   "execution_count": 72,
   "outputs": [],
   "source": [
    "df = df.replace('*', np.nan)\n",
    "\n",
    "# don't know what SPECIES tag is, so we are removing it for now\n",
    "df = df.replace('SPECIES', np.nan)"
   ],
   "metadata": {
    "collapsed": false,
    "pycharm": {
     "name": "#%%\n"
    }
   }
  },
  {
   "cell_type": "code",
   "execution_count": 48,
   "metadata": {
    "pycharm": {
     "name": "#%%\n"
    }
   },
   "outputs": [
    {
     "data": {
      "text/plain": "   sentence        word hierarchical non-hierarchical\n0         0      active  DEFINIENDUM              NaN\n1         0        cave  DEFINIENDUM              NaN\n2         0           :          NaN              NaN\n3         0        Cave        GENUS              NaN\n4         0  containing          NaN     HAS_FUNCTION",
      "text/html": "<div>\n<style scoped>\n    .dataframe tbody tr th:only-of-type {\n        vertical-align: middle;\n    }\n\n    .dataframe tbody tr th {\n        vertical-align: top;\n    }\n\n    .dataframe thead th {\n        text-align: right;\n    }\n</style>\n<table border=\"1\" class=\"dataframe\">\n  <thead>\n    <tr style=\"text-align: right;\">\n      <th></th>\n      <th>sentence</th>\n      <th>word</th>\n      <th>hierarchical</th>\n      <th>non-hierarchical</th>\n    </tr>\n  </thead>\n  <tbody>\n    <tr>\n      <th>0</th>\n      <td>0</td>\n      <td>active</td>\n      <td>DEFINIENDUM</td>\n      <td>NaN</td>\n    </tr>\n    <tr>\n      <th>1</th>\n      <td>0</td>\n      <td>cave</td>\n      <td>DEFINIENDUM</td>\n      <td>NaN</td>\n    </tr>\n    <tr>\n      <th>2</th>\n      <td>0</td>\n      <td>:</td>\n      <td>NaN</td>\n      <td>NaN</td>\n    </tr>\n    <tr>\n      <th>3</th>\n      <td>0</td>\n      <td>Cave</td>\n      <td>GENUS</td>\n      <td>NaN</td>\n    </tr>\n    <tr>\n      <th>4</th>\n      <td>0</td>\n      <td>containing</td>\n      <td>NaN</td>\n      <td>HAS_FUNCTION</td>\n    </tr>\n  </tbody>\n</table>\n</div>"
     },
     "execution_count": 48,
     "metadata": {},
     "output_type": "execute_result"
    }
   ],
   "source": [
    "df.head()"
   ]
  },
  {
   "cell_type": "code",
   "execution_count": 18,
   "metadata": {
    "pycharm": {
     "name": "#%%\n"
    }
   },
   "outputs": [
    {
     "data": {
      "text/plain": "sentence                0\nword                    1\nnon-hierarchical     7936\nhierarchical        15107\ndtype: int64"
     },
     "execution_count": 18,
     "metadata": {},
     "output_type": "execute_result"
    }
   ],
   "source": [
    "df.isna().sum().sort_values()[:10]"
   ]
  },
  {
   "cell_type": "markdown",
   "source": [
    "# Check number of sentences"
   ],
   "metadata": {
    "collapsed": false,
    "pycharm": {
     "name": "#%% md\n"
    }
   }
  },
  {
   "cell_type": "code",
   "execution_count": 52,
   "outputs": [
    {
     "data": {
      "text/plain": "745"
     },
     "execution_count": 52,
     "metadata": {},
     "output_type": "execute_result"
    }
   ],
   "source": [
    "# number of different sentences\n",
    "df['sentence'].nunique()"
   ],
   "metadata": {
    "collapsed": false,
    "pycharm": {
     "name": "#%%\n"
    }
   }
  },
  {
   "cell_type": "code",
   "execution_count": 73,
   "outputs": [
    {
     "data": {
      "text/plain": "hierarchical\nDEFINIENDUM    741\nGENUS          614\nDEFINITOR      275\nName: sentence, dtype: int64"
     },
     "execution_count": 73,
     "metadata": {},
     "output_type": "execute_result"
    }
   ],
   "source": [
    "# number of sentences with each hierarchical tag\n",
    "df.groupby('hierarchical')['sentence'].nunique().sort_values(ascending=False)"
   ],
   "metadata": {
    "collapsed": false,
    "pycharm": {
     "name": "#%%\n"
    }
   }
  },
  {
   "cell_type": "code",
   "execution_count": 74,
   "outputs": [
    {
     "data": {
      "text/plain": "non-hierarchical\nHAS_FORM              287\nHAS_LOCATION          282\nHAS_CAUSE             221\nCOMPOSITION_MEDIUM    157\nHAS_FUNCTION          101\nHAS_SIZE              100\nCONTAINS               75\nHAS_ATTRIBUTE          56\nDEFINED_AS             48\nHAS_RESULT             20\nHAS_POSITION           18\nOCCURS_IN_TIME         16\nMEASURES               10\nSTUDIES                 7\nAFFECTS                 2\nOCCURS_IN_MEDIUM        1\nName: sentence, dtype: int64"
     },
     "execution_count": 74,
     "metadata": {},
     "output_type": "execute_result"
    }
   ],
   "source": [
    "# number of sentences with each non-hierarchical tag\n",
    "df.groupby('non-hierarchical')['sentence'].nunique().sort_values(ascending=False)"
   ],
   "metadata": {
    "collapsed": false,
    "pycharm": {
     "name": "#%%\n"
    }
   }
  },
  {
   "cell_type": "code",
   "execution_count": 75,
   "metadata": {
    "pycharm": {
     "name": "#%%\n"
    }
   },
   "outputs": [
    {
     "data": {
      "text/plain": "Empty DataFrame\nColumns: [sentence, word, hierarchical, non-hierarchical]\nIndex: []",
      "text/html": "<div>\n<style scoped>\n    .dataframe tbody tr th:only-of-type {\n        vertical-align: middle;\n    }\n\n    .dataframe tbody tr th {\n        vertical-align: top;\n    }\n\n    .dataframe thead th {\n        text-align: right;\n    }\n</style>\n<table border=\"1\" class=\"dataframe\">\n  <thead>\n    <tr style=\"text-align: right;\">\n      <th></th>\n      <th>sentence</th>\n      <th>word</th>\n      <th>hierarchical</th>\n      <th>non-hierarchical</th>\n    </tr>\n  </thead>\n  <tbody>\n  </tbody>\n</table>\n</div>"
     },
     "execution_count": 75,
     "metadata": {},
     "output_type": "execute_result"
    }
   ],
   "source": [
    "# find sentences without definiendum\n",
    "idx = df.groupby('sentence')['hierarchical'].agg(lambda x: 'DEFINIENDUM' not in list(x))\n",
    "idx = idx[idx==True].index\n",
    "df[df['sentence'].isin(idx)]"
   ]
  },
  {
   "cell_type": "code",
   "execution_count": 76,
   "metadata": {
    "pycharm": {
     "name": "#%%\n"
    }
   },
   "outputs": [],
   "source": [
    "# remove sentences without definiendum\n",
    "df = df[~df['sentence'].isin(idx)]"
   ]
  },
  {
   "cell_type": "code",
   "execution_count": 77,
   "outputs": [
    {
     "data": {
      "text/plain": "       sentence        word hierarchical non-hierarchical\n0             0      active  DEFINIENDUM              NaN\n1             0        cave  DEFINIENDUM              NaN\n2             0           :          NaN              NaN\n3             0        Cave        GENUS              NaN\n4             0  containing          NaN     HAS_FUNCTION\n...         ...         ...          ...              ...\n18213       744         are          NaN        HAS_CAUSE\n18214       744      shaped          NaN        HAS_CAUSE\n18215       744          by          NaN        HAS_CAUSE\n18216       744      eddies          NaN        HAS_CAUSE\n18217       744           .          NaN              NaN\n\n[18113 rows x 4 columns]",
      "text/html": "<div>\n<style scoped>\n    .dataframe tbody tr th:only-of-type {\n        vertical-align: middle;\n    }\n\n    .dataframe tbody tr th {\n        vertical-align: top;\n    }\n\n    .dataframe thead th {\n        text-align: right;\n    }\n</style>\n<table border=\"1\" class=\"dataframe\">\n  <thead>\n    <tr style=\"text-align: right;\">\n      <th></th>\n      <th>sentence</th>\n      <th>word</th>\n      <th>hierarchical</th>\n      <th>non-hierarchical</th>\n    </tr>\n  </thead>\n  <tbody>\n    <tr>\n      <th>0</th>\n      <td>0</td>\n      <td>active</td>\n      <td>DEFINIENDUM</td>\n      <td>NaN</td>\n    </tr>\n    <tr>\n      <th>1</th>\n      <td>0</td>\n      <td>cave</td>\n      <td>DEFINIENDUM</td>\n      <td>NaN</td>\n    </tr>\n    <tr>\n      <th>2</th>\n      <td>0</td>\n      <td>:</td>\n      <td>NaN</td>\n      <td>NaN</td>\n    </tr>\n    <tr>\n      <th>3</th>\n      <td>0</td>\n      <td>Cave</td>\n      <td>GENUS</td>\n      <td>NaN</td>\n    </tr>\n    <tr>\n      <th>4</th>\n      <td>0</td>\n      <td>containing</td>\n      <td>NaN</td>\n      <td>HAS_FUNCTION</td>\n    </tr>\n    <tr>\n      <th>...</th>\n      <td>...</td>\n      <td>...</td>\n      <td>...</td>\n      <td>...</td>\n    </tr>\n    <tr>\n      <th>18213</th>\n      <td>744</td>\n      <td>are</td>\n      <td>NaN</td>\n      <td>HAS_CAUSE</td>\n    </tr>\n    <tr>\n      <th>18214</th>\n      <td>744</td>\n      <td>shaped</td>\n      <td>NaN</td>\n      <td>HAS_CAUSE</td>\n    </tr>\n    <tr>\n      <th>18215</th>\n      <td>744</td>\n      <td>by</td>\n      <td>NaN</td>\n      <td>HAS_CAUSE</td>\n    </tr>\n    <tr>\n      <th>18216</th>\n      <td>744</td>\n      <td>eddies</td>\n      <td>NaN</td>\n      <td>HAS_CAUSE</td>\n    </tr>\n    <tr>\n      <th>18217</th>\n      <td>744</td>\n      <td>.</td>\n      <td>NaN</td>\n      <td>NaN</td>\n    </tr>\n  </tbody>\n</table>\n<p>18113 rows × 4 columns</p>\n</div>"
     },
     "execution_count": 77,
     "metadata": {},
     "output_type": "execute_result"
    }
   ],
   "source": [
    "df"
   ],
   "metadata": {
    "collapsed": false,
    "pycharm": {
     "name": "#%%\n"
    }
   }
  },
  {
   "cell_type": "markdown",
   "source": [
    "# Prepare dataframe for training"
   ],
   "metadata": {
    "collapsed": false,
    "pycharm": {
     "name": "#%% md\n"
    }
   }
  },
  {
   "cell_type": "markdown",
   "source": [
    "One data frame will have hierarchical tags (DEFINIENDUM , GENUS, DEFINITOR),\n",
    "the other frame will have non-hierarchical tags with at least 200 sentences (HAS_FORM, HAS_CAUSE, HAS_LOCATION) + DEFINIENDUM\n",
    "Two frames are needed, because sometimes GENUS and some hierarchical tag are coinciding."
   ],
   "metadata": {
    "collapsed": false,
    "pycharm": {
     "name": "#%% md\n"
    }
   }
  },
  {
   "cell_type": "code",
   "execution_count": null,
   "outputs": [],
   "source": [
    "df_h ="
   ],
   "metadata": {
    "collapsed": false,
    "pycharm": {
     "name": "#%%\n"
    }
   }
  }
 ],
 "metadata": {
  "interpreter": {
   "hash": "70646877a3894de9320ddea30d1ee5dabe01c74c6a8dfc54e03d0841f939a545"
  },
  "kernelspec": {
   "display_name": "Python 3.8.13 ('nlpfri')",
   "language": "python",
   "name": "python3"
  },
  "language_info": {
   "codemirror_mode": {
    "name": "ipython",
    "version": 3
   },
   "file_extension": ".py",
   "mimetype": "text/x-python",
   "name": "python",
   "nbconvert_exporter": "python",
   "pygments_lexer": "ipython3",
   "version": "3.8.13"
  },
  "orig_nbformat": 4
 },
 "nbformat": 4,
 "nbformat_minor": 2
}