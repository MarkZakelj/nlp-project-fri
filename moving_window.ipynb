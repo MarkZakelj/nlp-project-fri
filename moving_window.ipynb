{
 "cells": [
  {
   "cell_type": "code",
   "execution_count": 27,
   "outputs": [],
   "source": [
    "from transformers import BertTokenizer, BertPreTrainedModel, AdamW, AutoTokenizer, BertConfig, BertModel\n",
    "from rbert_model import RBERT\n",
    "import os\n",
    "from rbert_data_loader import load_and_cache_examples\n",
    "from train_relation_extraction import RelationExtractorTrainer, get_tokenizer\n",
    "from rbert_data_loader import TermFrameProcessor, convert_examples_to_features"
   ],
   "metadata": {
    "collapsed": false,
    "pycharm": {
     "name": "#%%\n"
    }
   }
  },
  {
   "cell_type": "code",
   "execution_count": 14,
   "outputs": [],
   "source": [
    "import torch\n"
   ],
   "metadata": {
    "collapsed": false,
    "pycharm": {
     "name": "#%%\n"
    }
   }
  },
  {
   "cell_type": "code",
   "execution_count": 8,
   "outputs": [],
   "source": [
    "device = torch.device('cuda')"
   ],
   "metadata": {
    "collapsed": false,
    "pycharm": {
     "name": "#%%\n"
    }
   }
  },
  {
   "cell_type": "code",
   "execution_count": 9,
   "outputs": [
    {
     "data": {
      "text/plain": "device(type='cuda')"
     },
     "execution_count": 9,
     "metadata": {},
     "output_type": "execute_result"
    }
   ],
   "source": [
    "device"
   ],
   "metadata": {
    "collapsed": false,
    "pycharm": {
     "name": "#%%\n"
    }
   }
  },
  {
   "cell_type": "code",
   "execution_count": 20,
   "outputs": [],
   "source": [
    "conf = {'experiment': 'EN_reg_nonhier+def',\n",
    "        'model_name': 'Scibert-cased_00',\n",
    "        'tokenizer_id': 'Scibert-cased',\n",
    "        'model_id': 'Scibert-cased',\n",
    "        'max_length': 128,\n",
    "        'batch_size': 4,\n",
    "        'epochs': 5}\n",
    "conf['model_dir'] = os.path.join('data', 'experiments', conf['experiment'], conf['model_name'])\n",
    "conf['eval_dir'] = conf['model_dir']\n",
    "conf['data_dir'] = os.path.join('data', 'experiments', conf['experiment'])"
   ],
   "metadata": {
    "collapsed": false,
    "pycharm": {
     "name": "#%%\n"
    }
   }
  },
  {
   "cell_type": "code",
   "execution_count": 22,
   "outputs": [],
   "source": [
    "tokenizer = get_tokenizer(conf['tokenizer_id'])"
   ],
   "metadata": {
    "collapsed": false,
    "pycharm": {
     "name": "#%%\n"
    }
   }
  },
  {
   "cell_type": "code",
   "execution_count": 24,
   "outputs": [],
   "source": [
    "processor = TermFrameProcessor(conf)"
   ],
   "metadata": {
    "collapsed": false,
    "pycharm": {
     "name": "#%%\n"
    }
   }
  },
  {
   "cell_type": "code",
   "execution_count": null,
   "outputs": [],
   "source": [
    "args = torch.load(os.path.join(conf['model_dir'], \"training_args.bin\"))\n",
    "model = RBERT.from_pretrained(os.path.join(conf['model_dir'], 'model.pt'), args=args)\n",
    "model.to(device);"
   ],
   "metadata": {
    "collapsed": false,
    "pycharm": {
     "name": "#%%\n"
    }
   }
  },
  {
   "cell_type": "code",
   "execution_count": 79,
   "outputs": [],
   "source": [
    "lines = [['Other', \"i'm doing nothing <e1> right now </e1>, do you want to <e2> come to me </e2>?\"]]"
   ],
   "metadata": {
    "collapsed": false,
    "pycharm": {
     "name": "#%%\n"
    }
   }
  },
  {
   "cell_type": "code",
   "execution_count": 80,
   "outputs": [],
   "source": [
    "examples = processor._create_examples(lines, 'train')"
   ],
   "metadata": {
    "collapsed": false,
    "pycharm": {
     "name": "#%%\n"
    }
   }
  },
  {
   "cell_type": "code",
   "execution_count": 81,
   "outputs": [],
   "source": [
    "features = convert_examples_to_features(\n",
    "            examples, conf['max_length'], tokenizer, add_sep_token=False\n",
    "        )"
   ],
   "metadata": {
    "collapsed": false,
    "pycharm": {
     "name": "#%%\n"
    }
   }
  },
  {
   "cell_type": "code",
   "execution_count": 82,
   "outputs": [],
   "source": [
    "input_ids = torch.Tensor([features[0].input_ids]).type(torch.long).to(device)\n",
    "attention_mask = torch.Tensor([features[0].attention_mask]).type(torch.long).to(device)\n",
    "token_type_ids = torch.Tensor([features[0].token_type_ids]).type(torch.long).to(device)\n",
    "labels = None\n",
    "e1_mask = torch.Tensor([features[0].e1_mask]).type(torch.long).to(device)\n",
    "e2_mask = torch.Tensor([features[0].e2_mask]).type(torch.long).to(device)"
   ],
   "metadata": {
    "collapsed": false,
    "pycharm": {
     "name": "#%%\n"
    }
   }
  },
  {
   "cell_type": "code",
   "execution_count": 75,
   "outputs": [],
   "source": [
    "model.eval();"
   ],
   "metadata": {
    "collapsed": false,
    "pycharm": {
     "name": "#%%\n"
    }
   }
  },
  {
   "cell_type": "code",
   "execution_count": 83,
   "outputs": [
    {
     "data": {
      "text/plain": "(tensor([[-2.7069, -0.5903,  3.5867, -0.5823, -1.7594,  2.9533, -1.6908]],\n        device='cuda:0', grad_fn=<AddmmBackward>),)"
     },
     "execution_count": 83,
     "metadata": {},
     "output_type": "execute_result"
    }
   ],
   "source": [
    "model(input_ids, attention_mask, token_type_ids, labels, e1_mask, e2_mask)"
   ],
   "metadata": {
    "collapsed": false,
    "pycharm": {
     "name": "#%%\n"
    }
   }
  },
  {
   "cell_type": "code",
   "execution_count": null,
   "outputs": [],
   "source": [],
   "metadata": {
    "collapsed": false,
    "pycharm": {
     "name": "#%%\n"
    }
   }
  }
 ],
 "metadata": {
  "kernelspec": {
   "display_name": "Python 3",
   "language": "python",
   "name": "python3"
  },
  "language_info": {
   "codemirror_mode": {
    "name": "ipython",
    "version": 2
   },
   "file_extension": ".py",
   "mimetype": "text/x-python",
   "name": "python",
   "nbconvert_exporter": "python",
   "pygments_lexer": "ipython2",
   "version": "2.7.6"
  }
 },
 "nbformat": 4,
 "nbformat_minor": 0
}