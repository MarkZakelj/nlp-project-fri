{
 "cells": [
  {
   "cell_type": "code",
   "execution_count": null,
   "outputs": [],
   "source": [
    "import pandas as pd\n",
    "from transformers import BertTokenizer, BertPreTrainedModel, AdamW, AutoTokenizer, BertConfig, BertModel\n",
    "from rbert_model import RBERT\n",
    "import os\n",
    "import numpy as np\n",
    "from rbert_data_loader import load_and_cache_examples\n",
    "from train_relation_extraction import RelationExtractorTrainer, get_tokenizer, model_id_to_path\n",
    "from rbert_data_loader import TermFrameProcessor, convert_examples_to_features\n",
    "import torch\n",
    "from scipy.special import softmax"
   ],
   "metadata": {
    "collapsed": false,
    "pycharm": {
     "name": "#%%\n"
    }
   }
  },
  {
   "cell_type": "code",
   "execution_count": null,
   "outputs": [],
   "source": [
    "device = torch.device('cuda')"
   ],
   "metadata": {
    "collapsed": false,
    "pycharm": {
     "name": "#%%\n"
    }
   }
  },
  {
   "cell_type": "code",
   "execution_count": null,
   "outputs": [],
   "source": [
    "device"
   ],
   "metadata": {
    "collapsed": false,
    "pycharm": {
     "name": "#%%\n"
    }
   }
  },
  {
   "cell_type": "code",
   "execution_count": null,
   "outputs": [],
   "source": [
    "conf = {'experiment': 'EN_reg_nonhier+def',\n",
    "        'model_id': 'allenai/scibert_scivocab_cased',\n",
    "        'max_length': 128,\n",
    "        'batch_size': 4,\n",
    "        'epochs': 5}\n",
    "conf['model_dir'] = os.path.join('data', 'experiments', conf['experiment'], model_id_to_path(conf['model_id']))\n",
    "conf['eval_dir'] = conf['model_dir']\n",
    "conf['data_dir'] = os.path.join('data', 'experiments', conf['experiment'])"
   ],
   "metadata": {
    "collapsed": false,
    "pycharm": {
     "name": "#%%\n"
    }
   }
  },
  {
   "cell_type": "code",
   "execution_count": null,
   "outputs": [],
   "source": [
    "tokenizer = get_tokenizer(conf['model_id'])"
   ],
   "metadata": {
    "collapsed": false,
    "pycharm": {
     "name": "#%%\n"
    }
   }
  },
  {
   "cell_type": "code",
   "execution_count": null,
   "outputs": [],
   "source": [
    "processor = TermFrameProcessor(conf)"
   ],
   "metadata": {
    "collapsed": false,
    "pycharm": {
     "name": "#%%\n"
    }
   }
  },
  {
   "cell_type": "code",
   "execution_count": null,
   "outputs": [],
   "source": [
    "args = torch.load(os.path.join(conf['model_dir'], \"training_args.bin\"))\n",
    "model = RBERT.from_pretrained(os.path.join(conf['model_dir'], 'model.pt'), args=args)\n",
    "model.to(device);"
   ],
   "metadata": {
    "collapsed": false,
    "pycharm": {
     "name": "#%%\n"
    }
   }
  },
  {
   "cell_type": "code",
   "execution_count": null,
   "outputs": [],
   "source": [
    "sentence = \"Geer moraines or <e1> washboard moraines </e1> are series of small and roughly parallel ridges of till that are ordinarily associated with lakes or former lakes .\"\n",
    "i1 = sentence.find('<e1>')\n",
    "i2 = sentence.find('</e1>')\n",
    "window_size = 2\n",
    "words_before = sentence[:i1].strip().split(' ')\n",
    "words_after = sentence[i2 + 5:].strip().split(' ')\n",
    "lines = []\n",
    "idx1 = 0\n",
    "for i in range(len(words_before) - window_size + 1):\n",
    "    idx2 = idx1 + window_size\n",
    "    e2_before = words_before[:idx1] + ['<e2>'] + words_before[idx1:idx2] + ['</e2>'] + words_before[idx2:]\n",
    "    lines.append(['Other', ' '.join(e2_before) + ' ' + sentence[i1:]])\n",
    "    idx1 += 1\n",
    "idx1 = 0\n",
    "for i in range(window_size, len(words_after)):\n",
    "    idx2 = idx1 + window_size\n",
    "    e2_after = words_after[:idx1] + ['<e2>'] + words_after[idx1:idx2] + ['</e2>'] + words_after[idx2:]\n",
    "    lines.append(['Other', sentence[:i2 + 5] + ' ' + ' '.join(e2_after)])\n",
    "    idx1 += 1\n",
    "# lines.append(['HAS_FUNCTION', '<e1> Grab samplers </e1> are buckets or segments that <e2> drive into the sediment layer and enclose and retain a layer </e2> .'])"
   ],
   "metadata": {
    "collapsed": false,
    "pycharm": {
     "name": "#%%\n"
    }
   }
  },
  {
   "cell_type": "code",
   "execution_count": null,
   "outputs": [],
   "source": [
    "lines"
   ],
   "metadata": {
    "collapsed": false,
    "pycharm": {
     "name": "#%%\n"
    }
   }
  },
  {
   "cell_type": "code",
   "execution_count": null,
   "outputs": [],
   "source": [
    "examples = processor._create_examples(lines, 'train')"
   ],
   "metadata": {
    "collapsed": false,
    "pycharm": {
     "name": "#%%\n"
    }
   }
  },
  {
   "cell_type": "code",
   "execution_count": null,
   "outputs": [],
   "source": [
    "features = convert_examples_to_features(\n",
    "    examples, conf['max_length'], tokenizer, add_sep_token=False\n",
    ")"
   ],
   "metadata": {
    "collapsed": false,
    "pycharm": {
     "name": "#%%\n"
    }
   }
  },
  {
   "cell_type": "code",
   "execution_count": null,
   "outputs": [],
   "source": [
    "all_input_ids = torch.tensor([f.input_ids for f in features], dtype=torch.long, device=device)\n",
    "all_attention_mask = torch.tensor([f.attention_mask for f in features], dtype=torch.long, device=device)\n",
    "all_token_type_ids = torch.tensor([f.token_type_ids for f in features], dtype=torch.long, device=device)\n",
    "all_e1_mask = torch.tensor([f.e1_mask for f in features], dtype=torch.long, device=device)  # add e1 mask\n",
    "all_e2_mask = torch.tensor([f.e2_mask for f in features], dtype=torch.long, device=device)  # add e2 mask\n",
    "\n",
    "all_label_ids = torch.tensor([f.label_id for f in features], dtype=torch.long, device=device)"
   ],
   "metadata": {
    "collapsed": false,
    "pycharm": {
     "name": "#%%\n"
    }
   }
  },
  {
   "cell_type": "code",
   "execution_count": null,
   "outputs": [],
   "source": [
    "model.eval();"
   ],
   "metadata": {
    "collapsed": false,
    "pycharm": {
     "name": "#%%\n"
    }
   }
  },
  {
   "cell_type": "code",
   "execution_count": null,
   "outputs": [],
   "source": [
    "# for i in range(len(all_input_ids))\n",
    "with torch.no_grad():\n",
    "    outputs = model(all_input_ids, all_attention_mask, all_token_type_ids, None, all_e1_mask, all_e2_mask)\n",
    "    logits = outputs[0].detach().cpu().numpy()\n",
    "    probs = softmax(logits, axis=1)"
   ],
   "metadata": {
    "collapsed": false,
    "pycharm": {
     "name": "#%%\n"
    }
   }
  },
  {
   "cell_type": "code",
   "execution_count": null,
   "outputs": [],
   "source": [
    "logits"
   ],
   "metadata": {
    "collapsed": false,
    "pycharm": {
     "name": "#%%\n"
    }
   }
  },
  {
   "cell_type": "code",
   "execution_count": null,
   "outputs": [],
   "source": [
    "logits = outputs[0].detach().cpu().numpy()"
   ],
   "metadata": {
    "collapsed": false,
    "pycharm": {
     "name": "#%%\n"
    }
   }
  },
  {
   "cell_type": "code",
   "execution_count": null,
   "outputs": [],
   "source": [
    "logits"
   ],
   "metadata": {
    "collapsed": false,
    "pycharm": {
     "name": "#%%\n"
    }
   }
  },
  {
   "cell_type": "code",
   "execution_count": null,
   "outputs": [],
   "source": [
    "logits[logits < 8] = 0"
   ],
   "metadata": {
    "collapsed": false,
    "pycharm": {
     "name": "#%%\n"
    }
   }
  },
  {
   "cell_type": "code",
   "execution_count": null,
   "outputs": [],
   "source": [
    "df = pd.DataFrame(logits, columns=processor.relation_labels)"
   ],
   "metadata": {
    "collapsed": false,
    "pycharm": {
     "name": "#%%\n"
    }
   }
  },
  {
   "cell_type": "code",
   "execution_count": null,
   "outputs": [],
   "source": [
    "df"
   ],
   "metadata": {
    "collapsed": false,
    "pycharm": {
     "name": "#%%\n"
    }
   }
  },
  {
   "cell_type": "code",
   "execution_count": null,
   "outputs": [],
   "source": [
    "for l in range(len(lines)):\n",
    "    print(l, lines[l][1])"
   ],
   "metadata": {
    "collapsed": false,
    "pycharm": {
     "name": "#%%\n"
    }
   }
  },
  {
   "cell_type": "code",
   "execution_count": null,
   "outputs": [],
   "source": [
    "max_vals = np.max(logits, axis=1)\n",
    "arg_max = np.argmax(logits, axis=1)"
   ],
   "metadata": {
    "collapsed": false,
    "pycharm": {
     "name": "#%%\n"
    }
   }
  },
  {
   "cell_type": "code",
   "execution_count": null,
   "outputs": [],
   "source": [
    "lines[10]"
   ],
   "metadata": {
    "collapsed": false,
    "pycharm": {
     "name": "#%%\n"
    }
   }
  },
  {
   "cell_type": "code",
   "execution_count": null,
   "outputs": [],
   "source": [
    "processor.relation_labels"
   ],
   "metadata": {
    "collapsed": false,
    "pycharm": {
     "name": "#%%\n"
    }
   }
  },
  {
   "cell_type": "code",
   "execution_count": null,
   "outputs": [],
   "source": [
    "df = pd.read_csv('data/full_data_new_EN.csv')"
   ],
   "metadata": {
    "collapsed": false,
    "pycharm": {
     "name": "#%%\n"
    }
   }
  },
  {
   "cell_type": "code",
   "execution_count": null,
   "outputs": [],
   "source": [
    "df[df['Sentence'] ==79]"
   ],
   "metadata": {
    "collapsed": false,
    "pycharm": {
     "name": "#%%\n"
    }
   }
  },
  {
   "cell_type": "code",
   "execution_count": null,
   "outputs": [],
   "source": [
    "lines"
   ],
   "metadata": {
    "collapsed": false,
    "pycharm": {
     "name": "#%%\n"
    }
   }
  },
  {
   "cell_type": "code",
   "execution_count": 63,
   "outputs": [
    {
     "data": {
      "text/plain": "array([[-3.3230584 , -0.28777394,  0.3915504 ,  2.6353245 ,  4.0684237 ,\n        -2.2714093 , -2.2305045 ],\n       [-3.61521   , -0.5822604 , -0.27176338,  2.2229083 ,  4.8831253 ,\n        -1.4569333 , -2.4374123 ],\n       [-1.7090881 , -1.5794371 , -1.728625  ,  8.812912  , -1.9842335 ,\n        -1.9991543 ,  0.09666806],\n       [-1.2743081 , -2.2612534 , -2.9260657 ,  3.9110909 , -1.0057275 ,\n        -2.1319952 ,  5.9472904 ],\n       [-0.54082996, -1.9248059 , -1.7650276 , -1.7264402 , -0.8863953 ,\n        -1.4189417 ,  8.554747  ],\n       [-0.60751706, -1.9159092 , -1.8468326 , -1.3841116 , -1.2140503 ,\n        -1.4515196 ,  8.654597  ],\n       [-1.0642627 , -2.164248  , -2.4575984 ,  1.93889   , -2.2918904 ,\n        -1.38612   ,  7.6464434 ],\n       [-1.6847495 , -1.7833356 , -1.3581494 ,  9.161529  , -2.1036088 ,\n        -1.3656468 , -0.9450502 ],\n       [-1.6853762 , -1.6389939 , -1.13269   ,  9.09769   , -2.0025904 ,\n        -1.4591932 , -1.2642449 ],\n       [-1.8404146 , -1.7514817 , -1.6753707 ,  9.04278   , -1.0255224 ,\n        -1.8486793 , -1.0904444 ],\n       [-1.5635793 , -1.586362  , -1.6831613 , -1.628636  ,  8.372835  ,\n        -2.0301938 , -1.500188  ],\n       [-2.0236273 , -1.5585464 , -1.2902132 , -0.73045397,  8.006242  ,\n        -2.0117538 , -1.990935  ],\n       [-2.7733827 , -2.2171957 ,  2.8644423 , -1.5250394 ,  5.095961  ,\n        -0.799772  , -2.0302632 ],\n       [-1.5974383 , -1.6687661 , -2.4607022 ,  3.6992786 , -1.5447176 ,\n        -1.7968702 ,  5.4789658 ],\n       [-2.5551467 , -1.3855448 ,  3.4117494 ,  5.5199943 , -1.7319908 ,\n        -1.403017  , -2.0599663 ],\n       [-2.2845495 , -0.4455069 ,  7.614552  , -1.9657071 , -0.0957377 ,\n         0.02467517, -3.0197854 ],\n       [-2.4102595 , -0.8277441 ,  2.647827  , -2.891879  ,  1.126127  ,\n         4.6769176 , -2.9316008 ],\n       [-2.7246892 , -0.00973041,  1.7271059 , -3.0983963 ,  3.023421  ,\n         3.2553415 , -3.0925283 ],\n       [-2.7484603 ,  2.4173841 , -1.0053535 , -2.6269832 ,  3.9299717 ,\n         1.7272971 , -2.9855077 ],\n       [-2.3696432 , -1.3152204 ,  1.2258085 , -2.8556025 ,  2.2879102 ,\n         4.742125  , -2.4378397 ]], dtype=float32)"
     },
     "execution_count": 63,
     "metadata": {},
     "output_type": "execute_result"
    }
   ],
   "source": [
    "logits"
   ],
   "metadata": {
    "collapsed": false,
    "pycharm": {
     "name": "#%%\n"
    }
   }
  },
  {
   "cell_type": "code",
   "execution_count": 64,
   "outputs": [],
   "source": [
    "logits = outputs[0].detach().cpu().numpy()"
   ],
   "metadata": {
    "collapsed": false,
    "pycharm": {
     "name": "#%%\n"
    }
   }
  },
  {
   "cell_type": "code",
   "execution_count": 65,
   "outputs": [
    {
     "data": {
      "text/plain": "array([[-3.3230584 , -0.28777394,  0.3915504 ,  2.6353245 ,  4.0684237 ,\n        -2.2714093 , -2.2305045 ],\n       [-3.61521   , -0.5822604 , -0.27176338,  2.2229083 ,  4.8831253 ,\n        -1.4569333 , -2.4374123 ],\n       [-1.7090881 , -1.5794371 , -1.728625  ,  8.812912  , -1.9842335 ,\n        -1.9991543 ,  0.09666806],\n       [-1.2743081 , -2.2612534 , -2.9260657 ,  3.9110909 , -1.0057275 ,\n        -2.1319952 ,  5.9472904 ],\n       [-0.54082996, -1.9248059 , -1.7650276 , -1.7264402 , -0.8863953 ,\n        -1.4189417 ,  8.554747  ],\n       [-0.60751706, -1.9159092 , -1.8468326 , -1.3841116 , -1.2140503 ,\n        -1.4515196 ,  8.654597  ],\n       [-1.0642627 , -2.164248  , -2.4575984 ,  1.93889   , -2.2918904 ,\n        -1.38612   ,  7.6464434 ],\n       [-1.6847495 , -1.7833356 , -1.3581494 ,  9.161529  , -2.1036088 ,\n        -1.3656468 , -0.9450502 ],\n       [-1.6853762 , -1.6389939 , -1.13269   ,  9.09769   , -2.0025904 ,\n        -1.4591932 , -1.2642449 ],\n       [-1.8404146 , -1.7514817 , -1.6753707 ,  9.04278   , -1.0255224 ,\n        -1.8486793 , -1.0904444 ],\n       [-1.5635793 , -1.586362  , -1.6831613 , -1.628636  ,  8.372835  ,\n        -2.0301938 , -1.500188  ],\n       [-2.0236273 , -1.5585464 , -1.2902132 , -0.73045397,  8.006242  ,\n        -2.0117538 , -1.990935  ],\n       [-2.7733827 , -2.2171957 ,  2.8644423 , -1.5250394 ,  5.095961  ,\n        -0.799772  , -2.0302632 ],\n       [-1.5974383 , -1.6687661 , -2.4607022 ,  3.6992786 , -1.5447176 ,\n        -1.7968702 ,  5.4789658 ],\n       [-2.5551467 , -1.3855448 ,  3.4117494 ,  5.5199943 , -1.7319908 ,\n        -1.403017  , -2.0599663 ],\n       [-2.2845495 , -0.4455069 ,  7.614552  , -1.9657071 , -0.0957377 ,\n         0.02467517, -3.0197854 ],\n       [-2.4102595 , -0.8277441 ,  2.647827  , -2.891879  ,  1.126127  ,\n         4.6769176 , -2.9316008 ],\n       [-2.7246892 , -0.00973041,  1.7271059 , -3.0983963 ,  3.023421  ,\n         3.2553415 , -3.0925283 ],\n       [-2.7484603 ,  2.4173841 , -1.0053535 , -2.6269832 ,  3.9299717 ,\n         1.7272971 , -2.9855077 ],\n       [-2.3696432 , -1.3152204 ,  1.2258085 , -2.8556025 ,  2.2879102 ,\n         4.742125  , -2.4378397 ]], dtype=float32)"
     },
     "execution_count": 65,
     "metadata": {},
     "output_type": "execute_result"
    }
   ],
   "source": [
    "logits"
   ],
   "metadata": {
    "collapsed": false,
    "pycharm": {
     "name": "#%%\n"
    }
   }
  },
  {
   "cell_type": "code",
   "execution_count": 66,
   "outputs": [],
   "source": [
    "logits[logits < 8] = 0"
   ],
   "metadata": {
    "collapsed": false,
    "pycharm": {
     "name": "#%%\n"
    }
   }
  },
  {
   "cell_type": "code",
   "execution_count": 67,
   "outputs": [],
   "source": [
    "df = pd.DataFrame(logits, columns=processor.relation_labels)"
   ],
   "metadata": {
    "collapsed": false,
    "pycharm": {
     "name": "#%%\n"
    }
   }
  },
  {
   "cell_type": "code",
   "execution_count": 68,
   "outputs": [
    {
     "data": {
      "text/plain": "    Other  HAS_CAUSE  HAS_LOCATION  HAS_FORM  COMPOSITION_MEDIUM  \\\n0     0.0        0.0           0.0  0.000000            0.000000   \n1     0.0        0.0           0.0  0.000000            0.000000   \n2     0.0        0.0           0.0  8.812912            0.000000   \n3     0.0        0.0           0.0  0.000000            0.000000   \n4     0.0        0.0           0.0  0.000000            0.000000   \n5     0.0        0.0           0.0  0.000000            0.000000   \n6     0.0        0.0           0.0  0.000000            0.000000   \n7     0.0        0.0           0.0  9.161529            0.000000   \n8     0.0        0.0           0.0  9.097690            0.000000   \n9     0.0        0.0           0.0  9.042780            0.000000   \n10    0.0        0.0           0.0  0.000000            8.372835   \n11    0.0        0.0           0.0  0.000000            8.006242   \n12    0.0        0.0           0.0  0.000000            0.000000   \n13    0.0        0.0           0.0  0.000000            0.000000   \n14    0.0        0.0           0.0  0.000000            0.000000   \n15    0.0        0.0           0.0  0.000000            0.000000   \n16    0.0        0.0           0.0  0.000000            0.000000   \n17    0.0        0.0           0.0  0.000000            0.000000   \n18    0.0        0.0           0.0  0.000000            0.000000   \n19    0.0        0.0           0.0  0.000000            0.000000   \n\n    HAS_FUNCTION  HAS_SIZE  \n0            0.0  0.000000  \n1            0.0  0.000000  \n2            0.0  0.000000  \n3            0.0  0.000000  \n4            0.0  8.554747  \n5            0.0  8.654597  \n6            0.0  0.000000  \n7            0.0  0.000000  \n8            0.0  0.000000  \n9            0.0  0.000000  \n10           0.0  0.000000  \n11           0.0  0.000000  \n12           0.0  0.000000  \n13           0.0  0.000000  \n14           0.0  0.000000  \n15           0.0  0.000000  \n16           0.0  0.000000  \n17           0.0  0.000000  \n18           0.0  0.000000  \n19           0.0  0.000000  ",
      "text/html": "<div>\n<style scoped>\n    .dataframe tbody tr th:only-of-type {\n        vertical-align: middle;\n    }\n\n    .dataframe tbody tr th {\n        vertical-align: top;\n    }\n\n    .dataframe thead th {\n        text-align: right;\n    }\n</style>\n<table border=\"1\" class=\"dataframe\">\n  <thead>\n    <tr style=\"text-align: right;\">\n      <th></th>\n      <th>Other</th>\n      <th>HAS_CAUSE</th>\n      <th>HAS_LOCATION</th>\n      <th>HAS_FORM</th>\n      <th>COMPOSITION_MEDIUM</th>\n      <th>HAS_FUNCTION</th>\n      <th>HAS_SIZE</th>\n    </tr>\n  </thead>\n  <tbody>\n    <tr>\n      <th>0</th>\n      <td>0.0</td>\n      <td>0.0</td>\n      <td>0.0</td>\n      <td>0.000000</td>\n      <td>0.000000</td>\n      <td>0.0</td>\n      <td>0.000000</td>\n    </tr>\n    <tr>\n      <th>1</th>\n      <td>0.0</td>\n      <td>0.0</td>\n      <td>0.0</td>\n      <td>0.000000</td>\n      <td>0.000000</td>\n      <td>0.0</td>\n      <td>0.000000</td>\n    </tr>\n    <tr>\n      <th>2</th>\n      <td>0.0</td>\n      <td>0.0</td>\n      <td>0.0</td>\n      <td>8.812912</td>\n      <td>0.000000</td>\n      <td>0.0</td>\n      <td>0.000000</td>\n    </tr>\n    <tr>\n      <th>3</th>\n      <td>0.0</td>\n      <td>0.0</td>\n      <td>0.0</td>\n      <td>0.000000</td>\n      <td>0.000000</td>\n      <td>0.0</td>\n      <td>0.000000</td>\n    </tr>\n    <tr>\n      <th>4</th>\n      <td>0.0</td>\n      <td>0.0</td>\n      <td>0.0</td>\n      <td>0.000000</td>\n      <td>0.000000</td>\n      <td>0.0</td>\n      <td>8.554747</td>\n    </tr>\n    <tr>\n      <th>5</th>\n      <td>0.0</td>\n      <td>0.0</td>\n      <td>0.0</td>\n      <td>0.000000</td>\n      <td>0.000000</td>\n      <td>0.0</td>\n      <td>8.654597</td>\n    </tr>\n    <tr>\n      <th>6</th>\n      <td>0.0</td>\n      <td>0.0</td>\n      <td>0.0</td>\n      <td>0.000000</td>\n      <td>0.000000</td>\n      <td>0.0</td>\n      <td>0.000000</td>\n    </tr>\n    <tr>\n      <th>7</th>\n      <td>0.0</td>\n      <td>0.0</td>\n      <td>0.0</td>\n      <td>9.161529</td>\n      <td>0.000000</td>\n      <td>0.0</td>\n      <td>0.000000</td>\n    </tr>\n    <tr>\n      <th>8</th>\n      <td>0.0</td>\n      <td>0.0</td>\n      <td>0.0</td>\n      <td>9.097690</td>\n      <td>0.000000</td>\n      <td>0.0</td>\n      <td>0.000000</td>\n    </tr>\n    <tr>\n      <th>9</th>\n      <td>0.0</td>\n      <td>0.0</td>\n      <td>0.0</td>\n      <td>9.042780</td>\n      <td>0.000000</td>\n      <td>0.0</td>\n      <td>0.000000</td>\n    </tr>\n    <tr>\n      <th>10</th>\n      <td>0.0</td>\n      <td>0.0</td>\n      <td>0.0</td>\n      <td>0.000000</td>\n      <td>8.372835</td>\n      <td>0.0</td>\n      <td>0.000000</td>\n    </tr>\n    <tr>\n      <th>11</th>\n      <td>0.0</td>\n      <td>0.0</td>\n      <td>0.0</td>\n      <td>0.000000</td>\n      <td>8.006242</td>\n      <td>0.0</td>\n      <td>0.000000</td>\n    </tr>\n    <tr>\n      <th>12</th>\n      <td>0.0</td>\n      <td>0.0</td>\n      <td>0.0</td>\n      <td>0.000000</td>\n      <td>0.000000</td>\n      <td>0.0</td>\n      <td>0.000000</td>\n    </tr>\n    <tr>\n      <th>13</th>\n      <td>0.0</td>\n      <td>0.0</td>\n      <td>0.0</td>\n      <td>0.000000</td>\n      <td>0.000000</td>\n      <td>0.0</td>\n      <td>0.000000</td>\n    </tr>\n    <tr>\n      <th>14</th>\n      <td>0.0</td>\n      <td>0.0</td>\n      <td>0.0</td>\n      <td>0.000000</td>\n      <td>0.000000</td>\n      <td>0.0</td>\n      <td>0.000000</td>\n    </tr>\n    <tr>\n      <th>15</th>\n      <td>0.0</td>\n      <td>0.0</td>\n      <td>0.0</td>\n      <td>0.000000</td>\n      <td>0.000000</td>\n      <td>0.0</td>\n      <td>0.000000</td>\n    </tr>\n    <tr>\n      <th>16</th>\n      <td>0.0</td>\n      <td>0.0</td>\n      <td>0.0</td>\n      <td>0.000000</td>\n      <td>0.000000</td>\n      <td>0.0</td>\n      <td>0.000000</td>\n    </tr>\n    <tr>\n      <th>17</th>\n      <td>0.0</td>\n      <td>0.0</td>\n      <td>0.0</td>\n      <td>0.000000</td>\n      <td>0.000000</td>\n      <td>0.0</td>\n      <td>0.000000</td>\n    </tr>\n    <tr>\n      <th>18</th>\n      <td>0.0</td>\n      <td>0.0</td>\n      <td>0.0</td>\n      <td>0.000000</td>\n      <td>0.000000</td>\n      <td>0.0</td>\n      <td>0.000000</td>\n    </tr>\n    <tr>\n      <th>19</th>\n      <td>0.0</td>\n      <td>0.0</td>\n      <td>0.0</td>\n      <td>0.000000</td>\n      <td>0.000000</td>\n      <td>0.0</td>\n      <td>0.000000</td>\n    </tr>\n  </tbody>\n</table>\n</div>"
     },
     "execution_count": 68,
     "metadata": {},
     "output_type": "execute_result"
    }
   ],
   "source": [
    "df"
   ],
   "metadata": {
    "collapsed": false,
    "pycharm": {
     "name": "#%%\n"
    }
   }
  },
  {
   "cell_type": "code",
   "execution_count": 69,
   "outputs": [
    {
     "name": "stdout",
     "output_type": "stream",
     "text": [
      "0 <e2> Geer moraines </e2> or <e1> washboard moraines </e1> are series of small and roughly parallel ridges of till that are ordinarily associated with lakes or former lakes .\n",
      "1 Geer <e2> moraines or </e2> <e1> washboard moraines </e1> are series of small and roughly parallel ridges of till that are ordinarily associated with lakes or former lakes .\n",
      "2 Geer moraines or <e1> washboard moraines </e1> <e2> are series </e2> of small and roughly parallel ridges of till that are ordinarily associated with lakes or former lakes .\n",
      "3 Geer moraines or <e1> washboard moraines </e1> are <e2> series of </e2> small and roughly parallel ridges of till that are ordinarily associated with lakes or former lakes .\n",
      "4 Geer moraines or <e1> washboard moraines </e1> are series <e2> of small </e2> and roughly parallel ridges of till that are ordinarily associated with lakes or former lakes .\n",
      "5 Geer moraines or <e1> washboard moraines </e1> are series of <e2> small and </e2> roughly parallel ridges of till that are ordinarily associated with lakes or former lakes .\n",
      "6 Geer moraines or <e1> washboard moraines </e1> are series of small <e2> and roughly </e2> parallel ridges of till that are ordinarily associated with lakes or former lakes .\n",
      "7 Geer moraines or <e1> washboard moraines </e1> are series of small and <e2> roughly parallel </e2> ridges of till that are ordinarily associated with lakes or former lakes .\n",
      "8 Geer moraines or <e1> washboard moraines </e1> are series of small and roughly <e2> parallel ridges </e2> of till that are ordinarily associated with lakes or former lakes .\n",
      "9 Geer moraines or <e1> washboard moraines </e1> are series of small and roughly parallel <e2> ridges of </e2> till that are ordinarily associated with lakes or former lakes .\n",
      "10 Geer moraines or <e1> washboard moraines </e1> are series of small and roughly parallel ridges <e2> of till </e2> that are ordinarily associated with lakes or former lakes .\n",
      "11 Geer moraines or <e1> washboard moraines </e1> are series of small and roughly parallel ridges of <e2> till that </e2> are ordinarily associated with lakes or former lakes .\n",
      "12 Geer moraines or <e1> washboard moraines </e1> are series of small and roughly parallel ridges of till <e2> that are </e2> ordinarily associated with lakes or former lakes .\n",
      "13 Geer moraines or <e1> washboard moraines </e1> are series of small and roughly parallel ridges of till that <e2> are ordinarily </e2> associated with lakes or former lakes .\n",
      "14 Geer moraines or <e1> washboard moraines </e1> are series of small and roughly parallel ridges of till that are <e2> ordinarily associated </e2> with lakes or former lakes .\n",
      "15 Geer moraines or <e1> washboard moraines </e1> are series of small and roughly parallel ridges of till that are ordinarily <e2> associated with </e2> lakes or former lakes .\n",
      "16 Geer moraines or <e1> washboard moraines </e1> are series of small and roughly parallel ridges of till that are ordinarily associated <e2> with lakes </e2> or former lakes .\n",
      "17 Geer moraines or <e1> washboard moraines </e1> are series of small and roughly parallel ridges of till that are ordinarily associated with <e2> lakes or </e2> former lakes .\n",
      "18 Geer moraines or <e1> washboard moraines </e1> are series of small and roughly parallel ridges of till that are ordinarily associated with lakes <e2> or former </e2> lakes .\n",
      "19 Geer moraines or <e1> washboard moraines </e1> are series of small and roughly parallel ridges of till that are ordinarily associated with lakes or <e2> former lakes </e2> .\n"
     ]
    }
   ],
   "source": [
    "for l in range(len(lines)):\n",
    "    print(l, lines[l][1])"
   ],
   "metadata": {
    "collapsed": false,
    "pycharm": {
     "name": "#%%\n"
    }
   }
  },
  {
   "cell_type": "code",
   "execution_count": 51,
   "outputs": [],
   "source": [
    "max_vals = np.max(logits, axis=1)\n",
    "arg_max = np.argmax(logits, axis=1)"
   ],
   "metadata": {
    "collapsed": false,
    "pycharm": {
     "name": "#%%\n"
    }
   }
  },
  {
   "cell_type": "code",
   "execution_count": 63,
   "outputs": [
    {
     "data": {
      "text/plain": "['Other',\n 'Geer moraines or <e1> washboard moraines </e1> are series of small and roughly parallel ridges of till that are <e2> ordinarily associated with </e2> lakes or former lakes .']"
     },
     "execution_count": 63,
     "metadata": {},
     "output_type": "execute_result"
    }
   ],
   "source": [
    "lines[10]"
   ],
   "metadata": {
    "collapsed": false,
    "pycharm": {
     "name": "#%%\n"
    }
   }
  },
  {
   "cell_type": "code",
   "execution_count": 42,
   "outputs": [
    {
     "data": {
      "text/plain": "['Other',\n 'HAS_CAUSE',\n 'HAS_LOCATION',\n 'HAS_FORM',\n 'COMPOSITION_MEDIUM',\n 'HAS_FUNCTION',\n 'HAS_SIZE']"
     },
     "execution_count": 42,
     "metadata": {},
     "output_type": "execute_result"
    }
   ],
   "source": [
    "processor.relation_labels"
   ],
   "metadata": {
    "collapsed": false,
    "pycharm": {
     "name": "#%%\n"
    }
   }
  },
  {
   "cell_type": "code",
   "execution_count": 56,
   "outputs": [],
   "source": [
    "df = pd.read_csv('data/full_data_new_EN.csv')"
   ],
   "metadata": {
    "collapsed": false,
    "pycharm": {
     "name": "#%%\n"
    }
   }
  },
  {
   "cell_type": "code",
   "execution_count": 61,
   "outputs": [
    {
     "data": {
      "text/plain": "      Sentence        Word   category hierarchical non-hierarchical  \\\n1703        79        Geer  A.4_Other  DEFINIENDUM              NaN   \n1704        79    moraines  A.4_Other  DEFINIENDUM              NaN   \n1705        79          or        NaN          NaN              NaN   \n1706        79   washboard  A.4_Other  DEFINIENDUM              NaN   \n1707        79    moraines  A.4_Other  DEFINIENDUM              NaN   \n1708        79         are        NaN    DEFINITOR              NaN   \n1709        79      series        NaN          NaN              NaN   \n1710        79          of        NaN          NaN              NaN   \n1711        79       small        NaN          NaN         HAS_SIZE   \n1712        79         and        NaN          NaN              NaN   \n1713        79     roughly        NaN          NaN         HAS_FORM   \n1714        79    parallel        NaN          NaN         HAS_FORM   \n1715        79      ridges        NaN        GENUS              NaN   \n1716        79          of        NaN        GENUS              NaN   \n1717        79        till        NaN        GENUS              NaN   \n1718        79        that        NaN          NaN              NaN   \n1719        79         are        NaN          NaN              NaN   \n1720        79  ordinarily        NaN          NaN              NaN   \n1721        79  associated        NaN          NaN        HAS_CAUSE   \n1722        79        with        NaN          NaN        HAS_CAUSE   \n1723        79       lakes        NaN          NaN        HAS_CAUSE   \n1724        79          or        NaN          NaN        HAS_CAUSE   \n1725        79      former        NaN          NaN        HAS_CAUSE   \n1726        79       lakes        NaN          NaN        HAS_CAUSE   \n1727        79           .        NaN          NaN              NaN   \n\n     non-hierarchical-definitor  \n1703                        NaN  \n1704                        NaN  \n1705                        NaN  \n1706                        NaN  \n1707                        NaN  \n1708                        NaN  \n1709                        NaN  \n1710                        NaN  \n1711                        NaN  \n1712                        NaN  \n1713                        NaN  \n1714                        NaN  \n1715                        NaN  \n1716                        NaN  \n1717                        NaN  \n1718                        NaN  \n1719                        NaN  \n1720                        NaN  \n1721                        NaN  \n1722                        NaN  \n1723                        NaN  \n1724                        NaN  \n1725                        NaN  \n1726                        NaN  \n1727                        NaN  ",
      "text/html": "<div>\n<style scoped>\n    .dataframe tbody tr th:only-of-type {\n        vertical-align: middle;\n    }\n\n    .dataframe tbody tr th {\n        vertical-align: top;\n    }\n\n    .dataframe thead th {\n        text-align: right;\n    }\n</style>\n<table border=\"1\" class=\"dataframe\">\n  <thead>\n    <tr style=\"text-align: right;\">\n      <th></th>\n      <th>Sentence</th>\n      <th>Word</th>\n      <th>category</th>\n      <th>hierarchical</th>\n      <th>non-hierarchical</th>\n      <th>non-hierarchical-definitor</th>\n    </tr>\n  </thead>\n  <tbody>\n    <tr>\n      <th>1703</th>\n      <td>79</td>\n      <td>Geer</td>\n      <td>A.4_Other</td>\n      <td>DEFINIENDUM</td>\n      <td>NaN</td>\n      <td>NaN</td>\n    </tr>\n    <tr>\n      <th>1704</th>\n      <td>79</td>\n      <td>moraines</td>\n      <td>A.4_Other</td>\n      <td>DEFINIENDUM</td>\n      <td>NaN</td>\n      <td>NaN</td>\n    </tr>\n    <tr>\n      <th>1705</th>\n      <td>79</td>\n      <td>or</td>\n      <td>NaN</td>\n      <td>NaN</td>\n      <td>NaN</td>\n      <td>NaN</td>\n    </tr>\n    <tr>\n      <th>1706</th>\n      <td>79</td>\n      <td>washboard</td>\n      <td>A.4_Other</td>\n      <td>DEFINIENDUM</td>\n      <td>NaN</td>\n      <td>NaN</td>\n    </tr>\n    <tr>\n      <th>1707</th>\n      <td>79</td>\n      <td>moraines</td>\n      <td>A.4_Other</td>\n      <td>DEFINIENDUM</td>\n      <td>NaN</td>\n      <td>NaN</td>\n    </tr>\n    <tr>\n      <th>1708</th>\n      <td>79</td>\n      <td>are</td>\n      <td>NaN</td>\n      <td>DEFINITOR</td>\n      <td>NaN</td>\n      <td>NaN</td>\n    </tr>\n    <tr>\n      <th>1709</th>\n      <td>79</td>\n      <td>series</td>\n      <td>NaN</td>\n      <td>NaN</td>\n      <td>NaN</td>\n      <td>NaN</td>\n    </tr>\n    <tr>\n      <th>1710</th>\n      <td>79</td>\n      <td>of</td>\n      <td>NaN</td>\n      <td>NaN</td>\n      <td>NaN</td>\n      <td>NaN</td>\n    </tr>\n    <tr>\n      <th>1711</th>\n      <td>79</td>\n      <td>small</td>\n      <td>NaN</td>\n      <td>NaN</td>\n      <td>HAS_SIZE</td>\n      <td>NaN</td>\n    </tr>\n    <tr>\n      <th>1712</th>\n      <td>79</td>\n      <td>and</td>\n      <td>NaN</td>\n      <td>NaN</td>\n      <td>NaN</td>\n      <td>NaN</td>\n    </tr>\n    <tr>\n      <th>1713</th>\n      <td>79</td>\n      <td>roughly</td>\n      <td>NaN</td>\n      <td>NaN</td>\n      <td>HAS_FORM</td>\n      <td>NaN</td>\n    </tr>\n    <tr>\n      <th>1714</th>\n      <td>79</td>\n      <td>parallel</td>\n      <td>NaN</td>\n      <td>NaN</td>\n      <td>HAS_FORM</td>\n      <td>NaN</td>\n    </tr>\n    <tr>\n      <th>1715</th>\n      <td>79</td>\n      <td>ridges</td>\n      <td>NaN</td>\n      <td>GENUS</td>\n      <td>NaN</td>\n      <td>NaN</td>\n    </tr>\n    <tr>\n      <th>1716</th>\n      <td>79</td>\n      <td>of</td>\n      <td>NaN</td>\n      <td>GENUS</td>\n      <td>NaN</td>\n      <td>NaN</td>\n    </tr>\n    <tr>\n      <th>1717</th>\n      <td>79</td>\n      <td>till</td>\n      <td>NaN</td>\n      <td>GENUS</td>\n      <td>NaN</td>\n      <td>NaN</td>\n    </tr>\n    <tr>\n      <th>1718</th>\n      <td>79</td>\n      <td>that</td>\n      <td>NaN</td>\n      <td>NaN</td>\n      <td>NaN</td>\n      <td>NaN</td>\n    </tr>\n    <tr>\n      <th>1719</th>\n      <td>79</td>\n      <td>are</td>\n      <td>NaN</td>\n      <td>NaN</td>\n      <td>NaN</td>\n      <td>NaN</td>\n    </tr>\n    <tr>\n      <th>1720</th>\n      <td>79</td>\n      <td>ordinarily</td>\n      <td>NaN</td>\n      <td>NaN</td>\n      <td>NaN</td>\n      <td>NaN</td>\n    </tr>\n    <tr>\n      <th>1721</th>\n      <td>79</td>\n      <td>associated</td>\n      <td>NaN</td>\n      <td>NaN</td>\n      <td>HAS_CAUSE</td>\n      <td>NaN</td>\n    </tr>\n    <tr>\n      <th>1722</th>\n      <td>79</td>\n      <td>with</td>\n      <td>NaN</td>\n      <td>NaN</td>\n      <td>HAS_CAUSE</td>\n      <td>NaN</td>\n    </tr>\n    <tr>\n      <th>1723</th>\n      <td>79</td>\n      <td>lakes</td>\n      <td>NaN</td>\n      <td>NaN</td>\n      <td>HAS_CAUSE</td>\n      <td>NaN</td>\n    </tr>\n    <tr>\n      <th>1724</th>\n      <td>79</td>\n      <td>or</td>\n      <td>NaN</td>\n      <td>NaN</td>\n      <td>HAS_CAUSE</td>\n      <td>NaN</td>\n    </tr>\n    <tr>\n      <th>1725</th>\n      <td>79</td>\n      <td>former</td>\n      <td>NaN</td>\n      <td>NaN</td>\n      <td>HAS_CAUSE</td>\n      <td>NaN</td>\n    </tr>\n    <tr>\n      <th>1726</th>\n      <td>79</td>\n      <td>lakes</td>\n      <td>NaN</td>\n      <td>NaN</td>\n      <td>HAS_CAUSE</td>\n      <td>NaN</td>\n    </tr>\n    <tr>\n      <th>1727</th>\n      <td>79</td>\n      <td>.</td>\n      <td>NaN</td>\n      <td>NaN</td>\n      <td>NaN</td>\n      <td>NaN</td>\n    </tr>\n  </tbody>\n</table>\n</div>"
     },
     "execution_count": 61,
     "metadata": {},
     "output_type": "execute_result"
    }
   ],
   "source": [
    "df[df['Sentence'] ==79]"
   ],
   "metadata": {
    "collapsed": false,
    "pycharm": {
     "name": "#%%\n"
    }
   }
  },
  {
   "cell_type": "code",
   "execution_count": 19,
   "outputs": [
    {
     "data": {
      "text/plain": "[['Other',\n  '<e2> Geer moraines or </e2> <e1> washboard moraines </e1> are series of small and roughly parallel ridges of till that are ordinarily associated with lakes or former lakes .'],\n ['Other',\n  'Geer moraines or <e1> washboard moraines </e1> are series of <e2> small and roughly </e2> parallel ridges of till that are ordinarily associated with lakes or former lakes .'],\n ['Other',\n  'Geer moraines or <e1> washboard moraines </e1> are series of small <e2> and roughly parallel </e2> ridges of till that are ordinarily associated with lakes or former lakes .'],\n ['Other',\n  'Geer moraines or <e1> washboard moraines </e1> are series of small and <e2> roughly parallel ridges </e2> of till that are ordinarily associated with lakes or former lakes .'],\n ['Other',\n  'Geer moraines or <e1> washboard moraines </e1> are series of small and roughly <e2> parallel ridges of </e2> till that are ordinarily associated with lakes or former lakes .'],\n ['Other',\n  'Geer moraines or <e1> washboard moraines </e1> are series of small and roughly parallel <e2> ridges of till </e2> that are ordinarily associated with lakes or former lakes .'],\n ['Other',\n  'Geer moraines or <e1> washboard moraines </e1> are series of small and roughly parallel ridges <e2> of till that </e2> are ordinarily associated with lakes or former lakes .'],\n ['Other',\n  'Geer moraines or <e1> washboard moraines </e1> are series of small and roughly parallel ridges of <e2> till that are </e2> ordinarily associated with lakes or former lakes .'],\n ['Other',\n  'Geer moraines or <e1> washboard moraines </e1> are series of small and roughly parallel ridges of till <e2> that are ordinarily </e2> associated with lakes or former lakes .'],\n ['Other',\n  'Geer moraines or <e1> washboard moraines </e1> are series of small and roughly parallel ridges of till that <e2> are ordinarily associated </e2> with lakes or former lakes .'],\n ['Other',\n  'Geer moraines or <e1> washboard moraines </e1> are series of small and roughly parallel ridges of till that are <e2> ordinarily associated with </e2> lakes or former lakes .'],\n ['Other',\n  'Geer moraines or <e1> washboard moraines </e1> are series of small and roughly parallel ridges of till that are ordinarily <e2> associated with lakes </e2> or former lakes .'],\n ['Other',\n  'Geer moraines or <e1> washboard moraines </e1> are series of small and roughly parallel ridges of till that are ordinarily associated <e2> with lakes or </e2> former lakes .'],\n ['Other',\n  'Geer moraines or <e1> washboard moraines </e1> are series of small and roughly parallel ridges of till that are ordinarily associated with <e2> lakes or former </e2> lakes .'],\n ['Other',\n  'Geer moraines or <e1> washboard moraines </e1> are series of small and roughly parallel ridges of till that are ordinarily associated with lakes <e2> or former lakes </e2> .'],\n ['HAS_FUNCTION',\n  '<e1> Grab samplers </e1> are buckets or segments that <e2> drive into the sediment layer and enclose and retain a layer </e2> .']]"
     },
     "execution_count": 19,
     "metadata": {},
     "output_type": "execute_result"
    }
   ],
   "source": [
    "lines"
   ],
   "metadata": {
    "collapsed": false,
    "pycharm": {
     "name": "#%%\n"
    }
   }
  },
  {
   "cell_type": "code",
   "execution_count": null,
   "outputs": [],
   "source": [],
   "metadata": {
    "collapsed": false,
    "pycharm": {
     "name": "#%%\n"
    }
   }
  }
 ],
 "metadata": {
  "kernelspec": {
   "display_name": "Python 3",
   "language": "python",
   "name": "python3"
  },
  "language_info": {
   "codemirror_mode": {
    "name": "ipython",
    "version": 2
   },
   "file_extension": ".py",
   "mimetype": "text/x-python",
   "name": "python",
   "nbconvert_exporter": "python",
   "pygments_lexer": "ipython2",
   "version": "2.7.6"
  }
 },
 "nbformat": 4,
 "nbformat_minor": 0
}