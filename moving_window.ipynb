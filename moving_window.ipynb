{
 "cells": [
  {
   "cell_type": "code",
   "execution_count": 2,
   "outputs": [
    {
     "name": "stderr",
     "output_type": "stream",
     "text": [
      "2022-05-28 16:49:02.368980: I tensorflow/stream_executor/platform/default/dso_loader.cc:49] Successfully opened dynamic library libcudart.so.11.0\n"
     ]
    }
   ],
   "source": [
    "import pandas as pd\n",
    "from transformers import BertTokenizer, BertPreTrainedModel, AdamW, AutoTokenizer, BertConfig, BertModel\n",
    "from rbert_model import RBERT\n",
    "import os\n",
    "import numpy as np\n",
    "from rbert_data_loader import load_and_cache_examples\n",
    "from train_relation_extraction import RelationExtractorTrainer, get_tokenizer, model_id_to_path\n",
    "from rbert_data_loader import TermFrameProcessor, convert_examples_to_features\n",
    "import torch\n",
    "from scipy.special import softmax"
   ],
   "metadata": {
    "collapsed": false,
    "pycharm": {
     "name": "#%%\n"
    }
   }
  },
  {
   "cell_type": "code",
   "execution_count": 3,
   "outputs": [],
   "source": [
    "device = torch.device('cuda')"
   ],
   "metadata": {
    "collapsed": false,
    "pycharm": {
     "name": "#%%\n"
    }
   }
  },
  {
   "cell_type": "code",
   "execution_count": 4,
   "outputs": [
    {
     "data": {
      "text/plain": "device(type='cuda')"
     },
     "execution_count": 4,
     "metadata": {},
     "output_type": "execute_result"
    }
   ],
   "source": [
    "device"
   ],
   "metadata": {
    "collapsed": false,
    "pycharm": {
     "name": "#%%\n"
    }
   }
  },
  {
   "cell_type": "code",
   "execution_count": 5,
   "outputs": [],
   "source": [
    "conf = {'experiment': 'SL_reg_nonhier+def',\n",
    "        'model_id': 'EMBEDDIA/crosloengual-bert',\n",
    "        'max_length': 128,\n",
    "        'batch_size': 4,\n",
    "        'epochs': 5}\n",
    "conf['model_dir'] = os.path.join('data', 'experiments', conf['experiment'], model_id_to_path(conf['model_id']))\n",
    "conf['eval_dir'] = conf['model_dir']\n",
    "conf['data_dir'] = os.path.join('data', 'experiments', conf['experiment'])"
   ],
   "metadata": {
    "collapsed": false,
    "pycharm": {
     "name": "#%%\n"
    }
   }
  },
  {
   "cell_type": "code",
   "execution_count": 6,
   "outputs": [],
   "source": [
    "tokenizer = get_tokenizer(conf['model_id'])"
   ],
   "metadata": {
    "collapsed": false,
    "pycharm": {
     "name": "#%%\n"
    }
   }
  },
  {
   "cell_type": "code",
   "execution_count": 7,
   "outputs": [],
   "source": [
    "processor = TermFrameProcessor(conf)"
   ],
   "metadata": {
    "collapsed": false,
    "pycharm": {
     "name": "#%%\n"
    }
   }
  },
  {
   "cell_type": "code",
   "execution_count": 8,
   "outputs": [],
   "source": [
    "args = torch.load(os.path.join(conf['model_dir'], \"training_args.bin\"))\n",
    "model = RBERT.from_pretrained(os.path.join(conf['model_dir'], 'model.pt'), args=args)\n",
    "model.to(device);"
   ],
   "metadata": {
    "collapsed": false,
    "pycharm": {
     "name": "#%%\n"
    }
   }
  },
  {
   "cell_type": "code",
   "execution_count": 9,
   "outputs": [],
   "source": [
    "sentence = \"<e1> Uvala </e1> je večja kraška globel skledaste oblike z neravnim dnom in sklenjenim višjim obodom . Praviloma je manjša od kraškega polja in večja od vrtače .\"\n",
    "pure_sentence = sentence.replace('<e1> ', '').replace('</e1> ', '').split(' ')\n",
    "\n",
    "i1 = sentence.find('<e1>')\n",
    "i2 = sentence.find('</e1>')\n",
    "words_before = sentence[:i1].strip().split(' ')\n",
    "words_inside = sentence[i1 + 5:i2].strip().split(' ')\n",
    "words_after = sentence[i2 + 5:].strip().split(' ')\n",
    "for wo in [words_before, words_inside, words_after]:\n",
    "    if '' in wo:\n",
    "        wo.remove('')"
   ],
   "metadata": {
    "collapsed": false,
    "pycharm": {
     "name": "#%%\n"
    }
   }
  },
  {
   "cell_type": "code",
   "execution_count": 15,
   "outputs": [],
   "source": [
    "word_class_scores = np.zeros((len(pure_sentence), len(processor.relation_labels)))\n",
    "for window_size in [1, 2]:\n",
    "    lines = []\n",
    "    word_masks = []\n",
    "    idx1 = 0\n",
    "    for i in range(len(words_before) - window_size + 1):\n",
    "        idx2 = idx1 + window_size\n",
    "        e2_before = words_before[:idx1] + ['<e2>'] + words_before[idx1:idx2] + ['</e2>'] + words_before[idx2:]\n",
    "        lines.append(['Other', ' '.join(e2_before) + ' ' + sentence[i1:]])\n",
    "        word_masks.append(list(range(idx1, idx2)))\n",
    "        idx1 += 1\n",
    "    idx1 = 0\n",
    "    offset = len(words_before) + len(words_inside)\n",
    "    for i in range(window_size, len(words_after)):\n",
    "        idx2 = idx1 + window_size\n",
    "        e2_after = words_after[:idx1] + ['<e2>'] + words_after[idx1:idx2] + ['</e2>'] + words_after[idx2:]\n",
    "        lines.append(['Other', sentence[:i2 + 5] + ' ' + ' '.join(e2_after)])\n",
    "        word_masks.append(list(range(idx1 + offset, idx2 + offset)))\n",
    "        idx1 += 1\n",
    "    examples = processor._create_examples(lines, 'train')\n",
    "    features = convert_examples_to_features(\n",
    "        examples, conf['max_length'], tokenizer, add_sep_token=False\n",
    "    )\n",
    "\n",
    "    all_input_ids = torch.tensor([f.input_ids for f in features], dtype=torch.long, device=device)\n",
    "    all_attention_mask = torch.tensor([f.attention_mask for f in features], dtype=torch.long, device=device)\n",
    "    all_token_type_ids = torch.tensor([f.token_type_ids for f in features], dtype=torch.long, device=device)\n",
    "    all_e1_mask = torch.tensor([f.e1_mask for f in features], dtype=torch.long, device=device)  # add e1 mask\n",
    "    all_e2_mask = torch.tensor([f.e2_mask for f in features], dtype=torch.long, device=device)  # add e2 mask\n",
    "\n",
    "    all_label_ids = torch.tensor([f.label_id for f in features], dtype=torch.long, device=device)\n",
    "    model.eval();\n",
    "    # for i in range(len(all_input_ids))\n",
    "    with torch.no_grad():\n",
    "        outputs = model(all_input_ids, all_attention_mask, all_token_type_ids, None, all_e1_mask, all_e2_mask)\n",
    "        logits = outputs[0].detach().cpu().numpy()\n",
    "        probs = softmax(logits, axis=1)\n",
    "    logits = outputs[0].detach().cpu().numpy()\n",
    "    logits[logits < 7] = 0\n",
    "    for idx in range(logits.shape[0]):\n",
    "        word_class_scores[word_masks[idx]] += logits[idx, :] / window_size"
   ],
   "metadata": {
    "collapsed": false,
    "pycharm": {
     "name": "#%%\n"
    }
   }
  },
  {
   "cell_type": "code",
   "execution_count": 16,
   "outputs": [
    {
     "data": {
      "text/plain": "array([[ 0.        ,  0.        ,  0.        ,  0.        ,  0.        ,\n         0.        ,  0.        ],\n       [ 0.        ,  0.        ,  0.        ,  0.        ,  0.        ,\n         0.        , 11.80213904],\n       [ 0.        ,  0.        ,  0.        ,  0.        ,  0.        ,\n         0.        , 15.53942251],\n       [ 0.        ,  0.        ,  0.        ,  0.        ,  0.        ,\n         0.        ,  3.67651057],\n       [ 0.        ,  0.        ,  0.        , 12.64386415,  0.        ,\n         0.        ,  0.        ],\n       [ 0.        ,  0.        ,  0.        , 17.60972786,  0.        ,\n         0.        ,  0.        ],\n       [ 0.        ,  0.        ,  0.        , 17.61022091,  0.        ,\n         0.        ,  0.        ],\n       [ 0.        ,  0.        ,  0.        , 17.70760632,  0.        ,\n         0.        ,  0.        ],\n       [ 0.        ,  0.        ,  0.        , 17.67105293,  0.        ,\n         0.        ,  0.        ],\n       [ 0.        ,  0.        ,  0.        , 17.66777277,  0.        ,\n         0.        ,  0.        ],\n       [ 0.        ,  0.        ,  0.        , 17.72979069,  0.        ,\n         0.        ,  0.        ],\n       [ 0.        ,  0.        ,  0.        , 17.75067329,  0.        ,\n         0.        ,  0.        ],\n       [ 0.        ,  0.        ,  0.        , 16.90631342,  0.        ,\n         0.        ,  0.        ],\n       [ 0.        ,  0.        ,  0.        , 17.81498051,  0.        ,\n         0.        ,  0.        ],\n       [ 0.        ,  0.        ,  0.        , 16.65583134,  0.        ,\n         0.        ,  0.        ],\n       [ 0.        ,  0.        ,  0.        ,  3.55543756,  0.        ,\n         0.        ,  3.94206285],\n       [ 0.        ,  0.        ,  0.        ,  0.        ,  0.        ,\n         0.        , 15.79170179],\n       [ 0.        ,  0.        ,  0.        ,  0.        ,  0.        ,\n         0.        , 15.85399318],\n       [ 0.        ,  0.        ,  0.        ,  0.        ,  0.        ,\n         0.        , 15.76901627],\n       [ 0.        ,  0.        ,  0.        ,  0.        ,  0.        ,\n         0.        ,  3.93636632],\n       [ 0.        ,  0.        ,  0.        ,  0.        ,  0.        ,\n         0.        ,  3.93961406],\n       [ 0.        ,  0.        ,  0.        ,  0.        ,  0.        ,\n         0.        , 15.77407408],\n       [ 0.        ,  0.        ,  0.        ,  0.        ,  0.        ,\n         0.        , 15.85151267],\n       [ 0.        ,  0.        ,  0.        ,  0.        ,  0.        ,\n         0.        , 15.66854167],\n       [ 0.        ,  0.        ,  0.        ,  7.36402082,  0.        ,\n         0.        ,  3.80293059],\n       [ 0.        ,  0.        ,  0.        ,  0.        ,  0.        ,\n         0.        ,  0.        ]])"
     },
     "execution_count": 16,
     "metadata": {},
     "output_type": "execute_result"
    }
   ],
   "source": [
    "word_class_scores"
   ],
   "metadata": {
    "collapsed": false,
    "pycharm": {
     "name": "#%%\n"
    }
   }
  },
  {
   "cell_type": "code",
   "execution_count": 27,
   "outputs": [],
   "source": [
    "res = [(word, processor.relation_labels[np.argmax(score)], np.max(score)) for word, score in\n",
    "       zip(pure_sentence, word_class_scores)]"
   ],
   "metadata": {
    "collapsed": false,
    "pycharm": {
     "name": "#%%\n"
    }
   }
  },
  {
   "cell_type": "code",
   "execution_count": 28,
   "outputs": [],
   "source": [
    "df = pd.DataFrame.from_records(res, columns=[\"Word\", 'non-hierarchical', 'score'])"
   ],
   "metadata": {
    "collapsed": false,
    "pycharm": {
     "name": "#%%\n"
    }
   }
  },
  {
   "cell_type": "code",
   "execution_count": 29,
   "outputs": [
    {
     "data": {
      "text/plain": "          Word non-hierarchical      score\n0        Uvala            Other   0.000000\n1           je         HAS_SIZE  11.802139\n2        večja         HAS_SIZE  15.539423\n3       kraška         HAS_SIZE   3.676511\n4       globel         HAS_FORM  12.643864\n5    skledaste         HAS_FORM  17.609728\n6       oblike         HAS_FORM  17.610221\n7            z         HAS_FORM  17.707606\n8     neravnim         HAS_FORM  17.671053\n9         dnom         HAS_FORM  17.667773\n10          in         HAS_FORM  17.729791\n11  sklenjenim         HAS_FORM  17.750673\n12      višjim         HAS_FORM  16.906313\n13      obodom         HAS_FORM  17.814981\n14           .         HAS_FORM  16.655831\n15   Praviloma         HAS_SIZE   3.942063\n16          je         HAS_SIZE  15.791702\n17      manjša         HAS_SIZE  15.853993\n18          od         HAS_SIZE  15.769016\n19    kraškega         HAS_SIZE   3.936366\n20       polja         HAS_SIZE   3.939614\n21          in         HAS_SIZE  15.774074\n22       večja         HAS_SIZE  15.851513\n23          od         HAS_SIZE  15.668542\n24      vrtače         HAS_FORM   7.364021\n25           .            Other   0.000000",
      "text/html": "<div>\n<style scoped>\n    .dataframe tbody tr th:only-of-type {\n        vertical-align: middle;\n    }\n\n    .dataframe tbody tr th {\n        vertical-align: top;\n    }\n\n    .dataframe thead th {\n        text-align: right;\n    }\n</style>\n<table border=\"1\" class=\"dataframe\">\n  <thead>\n    <tr style=\"text-align: right;\">\n      <th></th>\n      <th>Word</th>\n      <th>non-hierarchical</th>\n      <th>score</th>\n    </tr>\n  </thead>\n  <tbody>\n    <tr>\n      <th>0</th>\n      <td>Uvala</td>\n      <td>Other</td>\n      <td>0.000000</td>\n    </tr>\n    <tr>\n      <th>1</th>\n      <td>je</td>\n      <td>HAS_SIZE</td>\n      <td>11.802139</td>\n    </tr>\n    <tr>\n      <th>2</th>\n      <td>večja</td>\n      <td>HAS_SIZE</td>\n      <td>15.539423</td>\n    </tr>\n    <tr>\n      <th>3</th>\n      <td>kraška</td>\n      <td>HAS_SIZE</td>\n      <td>3.676511</td>\n    </tr>\n    <tr>\n      <th>4</th>\n      <td>globel</td>\n      <td>HAS_FORM</td>\n      <td>12.643864</td>\n    </tr>\n    <tr>\n      <th>5</th>\n      <td>skledaste</td>\n      <td>HAS_FORM</td>\n      <td>17.609728</td>\n    </tr>\n    <tr>\n      <th>6</th>\n      <td>oblike</td>\n      <td>HAS_FORM</td>\n      <td>17.610221</td>\n    </tr>\n    <tr>\n      <th>7</th>\n      <td>z</td>\n      <td>HAS_FORM</td>\n      <td>17.707606</td>\n    </tr>\n    <tr>\n      <th>8</th>\n      <td>neravnim</td>\n      <td>HAS_FORM</td>\n      <td>17.671053</td>\n    </tr>\n    <tr>\n      <th>9</th>\n      <td>dnom</td>\n      <td>HAS_FORM</td>\n      <td>17.667773</td>\n    </tr>\n    <tr>\n      <th>10</th>\n      <td>in</td>\n      <td>HAS_FORM</td>\n      <td>17.729791</td>\n    </tr>\n    <tr>\n      <th>11</th>\n      <td>sklenjenim</td>\n      <td>HAS_FORM</td>\n      <td>17.750673</td>\n    </tr>\n    <tr>\n      <th>12</th>\n      <td>višjim</td>\n      <td>HAS_FORM</td>\n      <td>16.906313</td>\n    </tr>\n    <tr>\n      <th>13</th>\n      <td>obodom</td>\n      <td>HAS_FORM</td>\n      <td>17.814981</td>\n    </tr>\n    <tr>\n      <th>14</th>\n      <td>.</td>\n      <td>HAS_FORM</td>\n      <td>16.655831</td>\n    </tr>\n    <tr>\n      <th>15</th>\n      <td>Praviloma</td>\n      <td>HAS_SIZE</td>\n      <td>3.942063</td>\n    </tr>\n    <tr>\n      <th>16</th>\n      <td>je</td>\n      <td>HAS_SIZE</td>\n      <td>15.791702</td>\n    </tr>\n    <tr>\n      <th>17</th>\n      <td>manjša</td>\n      <td>HAS_SIZE</td>\n      <td>15.853993</td>\n    </tr>\n    <tr>\n      <th>18</th>\n      <td>od</td>\n      <td>HAS_SIZE</td>\n      <td>15.769016</td>\n    </tr>\n    <tr>\n      <th>19</th>\n      <td>kraškega</td>\n      <td>HAS_SIZE</td>\n      <td>3.936366</td>\n    </tr>\n    <tr>\n      <th>20</th>\n      <td>polja</td>\n      <td>HAS_SIZE</td>\n      <td>3.939614</td>\n    </tr>\n    <tr>\n      <th>21</th>\n      <td>in</td>\n      <td>HAS_SIZE</td>\n      <td>15.774074</td>\n    </tr>\n    <tr>\n      <th>22</th>\n      <td>večja</td>\n      <td>HAS_SIZE</td>\n      <td>15.851513</td>\n    </tr>\n    <tr>\n      <th>23</th>\n      <td>od</td>\n      <td>HAS_SIZE</td>\n      <td>15.668542</td>\n    </tr>\n    <tr>\n      <th>24</th>\n      <td>vrtače</td>\n      <td>HAS_FORM</td>\n      <td>7.364021</td>\n    </tr>\n    <tr>\n      <th>25</th>\n      <td>.</td>\n      <td>Other</td>\n      <td>0.000000</td>\n    </tr>\n  </tbody>\n</table>\n</div>"
     },
     "execution_count": 29,
     "metadata": {},
     "output_type": "execute_result"
    }
   ],
   "source": [
    "df"
   ],
   "metadata": {
    "collapsed": false,
    "pycharm": {
     "name": "#%%\n"
    }
   }
  },
  {
   "cell_type": "code",
   "execution_count": 30,
   "outputs": [],
   "source": [
    "df_true = pd.read_csv('data/full_data_new_SL.csv')"
   ],
   "metadata": {
    "collapsed": false,
    "pycharm": {
     "name": "#%%\n"
    }
   }
  },
  {
   "cell_type": "code",
   "execution_count": 31,
   "outputs": [
    {
     "data": {
      "text/plain": "    Sentence        Word              category hierarchical non-hierarchical  \\\n53         2       Uvala  A.1_Surface_landform  DEFINIENDUM              NaN   \n54         2          je                   NaN    DEFINITOR              NaN   \n55         2       večja                   NaN          NaN         HAS_SIZE   \n56         2      kraška                   NaN        GENUS              NaN   \n57         2      globel  A.1_Surface_landform        GENUS              NaN   \n58         2   skledaste                   NaN          NaN         HAS_FORM   \n59         2      oblike                   NaN          NaN         HAS_FORM   \n60         2           z                   NaN          NaN         HAS_FORM   \n61         2    neravnim                   NaN          NaN         HAS_FORM   \n62         2        dnom                   NaN          NaN         HAS_FORM   \n63         2          in                   NaN          NaN         HAS_FORM   \n64         2  sklenjenim                   NaN          NaN         HAS_FORM   \n65         2      višjim                   NaN          NaN         HAS_FORM   \n66         2      obodom                   NaN          NaN         HAS_FORM   \n67         2           .                   NaN          NaN              NaN   \n68         2   Praviloma                   NaN          NaN              NaN   \n69         2          je                   NaN          NaN              NaN   \n70         2      manjša                   NaN          NaN         HAS_SIZE   \n71         2          od                   NaN          NaN         HAS_SIZE   \n72         2    kraškega  A.1_Surface_landform          NaN         HAS_SIZE   \n73         2       polja  A.1_Surface_landform          NaN         HAS_SIZE   \n74         2          in                   NaN          NaN              NaN   \n75         2       večja                   NaN          NaN         HAS_SIZE   \n76         2          od                   NaN          NaN         HAS_SIZE   \n77         2      vrtače  A.1_Surface_landform          NaN         HAS_SIZE   \n78         2           .                   NaN          NaN              NaN   \n\n   non-hierarchical-definitor  \n53                        NaN  \n54                        NaN  \n55                        NaN  \n56                        NaN  \n57                        NaN  \n58                        NaN  \n59                 frame_FORM  \n60                        NaN  \n61                        NaN  \n62                        NaN  \n63                        NaN  \n64                        NaN  \n65                        NaN  \n66                        NaN  \n67                        NaN  \n68                        NaN  \n69                        NaN  \n70                        NaN  \n71                        NaN  \n72                        NaN  \n73                        NaN  \n74                        NaN  \n75                        NaN  \n76                        NaN  \n77                        NaN  \n78                        NaN  ",
      "text/html": "<div>\n<style scoped>\n    .dataframe tbody tr th:only-of-type {\n        vertical-align: middle;\n    }\n\n    .dataframe tbody tr th {\n        vertical-align: top;\n    }\n\n    .dataframe thead th {\n        text-align: right;\n    }\n</style>\n<table border=\"1\" class=\"dataframe\">\n  <thead>\n    <tr style=\"text-align: right;\">\n      <th></th>\n      <th>Sentence</th>\n      <th>Word</th>\n      <th>category</th>\n      <th>hierarchical</th>\n      <th>non-hierarchical</th>\n      <th>non-hierarchical-definitor</th>\n    </tr>\n  </thead>\n  <tbody>\n    <tr>\n      <th>53</th>\n      <td>2</td>\n      <td>Uvala</td>\n      <td>A.1_Surface_landform</td>\n      <td>DEFINIENDUM</td>\n      <td>NaN</td>\n      <td>NaN</td>\n    </tr>\n    <tr>\n      <th>54</th>\n      <td>2</td>\n      <td>je</td>\n      <td>NaN</td>\n      <td>DEFINITOR</td>\n      <td>NaN</td>\n      <td>NaN</td>\n    </tr>\n    <tr>\n      <th>55</th>\n      <td>2</td>\n      <td>večja</td>\n      <td>NaN</td>\n      <td>NaN</td>\n      <td>HAS_SIZE</td>\n      <td>NaN</td>\n    </tr>\n    <tr>\n      <th>56</th>\n      <td>2</td>\n      <td>kraška</td>\n      <td>NaN</td>\n      <td>GENUS</td>\n      <td>NaN</td>\n      <td>NaN</td>\n    </tr>\n    <tr>\n      <th>57</th>\n      <td>2</td>\n      <td>globel</td>\n      <td>A.1_Surface_landform</td>\n      <td>GENUS</td>\n      <td>NaN</td>\n      <td>NaN</td>\n    </tr>\n    <tr>\n      <th>58</th>\n      <td>2</td>\n      <td>skledaste</td>\n      <td>NaN</td>\n      <td>NaN</td>\n      <td>HAS_FORM</td>\n      <td>NaN</td>\n    </tr>\n    <tr>\n      <th>59</th>\n      <td>2</td>\n      <td>oblike</td>\n      <td>NaN</td>\n      <td>NaN</td>\n      <td>HAS_FORM</td>\n      <td>frame_FORM</td>\n    </tr>\n    <tr>\n      <th>60</th>\n      <td>2</td>\n      <td>z</td>\n      <td>NaN</td>\n      <td>NaN</td>\n      <td>HAS_FORM</td>\n      <td>NaN</td>\n    </tr>\n    <tr>\n      <th>61</th>\n      <td>2</td>\n      <td>neravnim</td>\n      <td>NaN</td>\n      <td>NaN</td>\n      <td>HAS_FORM</td>\n      <td>NaN</td>\n    </tr>\n    <tr>\n      <th>62</th>\n      <td>2</td>\n      <td>dnom</td>\n      <td>NaN</td>\n      <td>NaN</td>\n      <td>HAS_FORM</td>\n      <td>NaN</td>\n    </tr>\n    <tr>\n      <th>63</th>\n      <td>2</td>\n      <td>in</td>\n      <td>NaN</td>\n      <td>NaN</td>\n      <td>HAS_FORM</td>\n      <td>NaN</td>\n    </tr>\n    <tr>\n      <th>64</th>\n      <td>2</td>\n      <td>sklenjenim</td>\n      <td>NaN</td>\n      <td>NaN</td>\n      <td>HAS_FORM</td>\n      <td>NaN</td>\n    </tr>\n    <tr>\n      <th>65</th>\n      <td>2</td>\n      <td>višjim</td>\n      <td>NaN</td>\n      <td>NaN</td>\n      <td>HAS_FORM</td>\n      <td>NaN</td>\n    </tr>\n    <tr>\n      <th>66</th>\n      <td>2</td>\n      <td>obodom</td>\n      <td>NaN</td>\n      <td>NaN</td>\n      <td>HAS_FORM</td>\n      <td>NaN</td>\n    </tr>\n    <tr>\n      <th>67</th>\n      <td>2</td>\n      <td>.</td>\n      <td>NaN</td>\n      <td>NaN</td>\n      <td>NaN</td>\n      <td>NaN</td>\n    </tr>\n    <tr>\n      <th>68</th>\n      <td>2</td>\n      <td>Praviloma</td>\n      <td>NaN</td>\n      <td>NaN</td>\n      <td>NaN</td>\n      <td>NaN</td>\n    </tr>\n    <tr>\n      <th>69</th>\n      <td>2</td>\n      <td>je</td>\n      <td>NaN</td>\n      <td>NaN</td>\n      <td>NaN</td>\n      <td>NaN</td>\n    </tr>\n    <tr>\n      <th>70</th>\n      <td>2</td>\n      <td>manjša</td>\n      <td>NaN</td>\n      <td>NaN</td>\n      <td>HAS_SIZE</td>\n      <td>NaN</td>\n    </tr>\n    <tr>\n      <th>71</th>\n      <td>2</td>\n      <td>od</td>\n      <td>NaN</td>\n      <td>NaN</td>\n      <td>HAS_SIZE</td>\n      <td>NaN</td>\n    </tr>\n    <tr>\n      <th>72</th>\n      <td>2</td>\n      <td>kraškega</td>\n      <td>A.1_Surface_landform</td>\n      <td>NaN</td>\n      <td>HAS_SIZE</td>\n      <td>NaN</td>\n    </tr>\n    <tr>\n      <th>73</th>\n      <td>2</td>\n      <td>polja</td>\n      <td>A.1_Surface_landform</td>\n      <td>NaN</td>\n      <td>HAS_SIZE</td>\n      <td>NaN</td>\n    </tr>\n    <tr>\n      <th>74</th>\n      <td>2</td>\n      <td>in</td>\n      <td>NaN</td>\n      <td>NaN</td>\n      <td>NaN</td>\n      <td>NaN</td>\n    </tr>\n    <tr>\n      <th>75</th>\n      <td>2</td>\n      <td>večja</td>\n      <td>NaN</td>\n      <td>NaN</td>\n      <td>HAS_SIZE</td>\n      <td>NaN</td>\n    </tr>\n    <tr>\n      <th>76</th>\n      <td>2</td>\n      <td>od</td>\n      <td>NaN</td>\n      <td>NaN</td>\n      <td>HAS_SIZE</td>\n      <td>NaN</td>\n    </tr>\n    <tr>\n      <th>77</th>\n      <td>2</td>\n      <td>vrtače</td>\n      <td>A.1_Surface_landform</td>\n      <td>NaN</td>\n      <td>HAS_SIZE</td>\n      <td>NaN</td>\n    </tr>\n    <tr>\n      <th>78</th>\n      <td>2</td>\n      <td>.</td>\n      <td>NaN</td>\n      <td>NaN</td>\n      <td>NaN</td>\n      <td>NaN</td>\n    </tr>\n  </tbody>\n</table>\n</div>"
     },
     "execution_count": 31,
     "metadata": {},
     "output_type": "execute_result"
    }
   ],
   "source": [
    "df_true[df_true['Sentence'] ==2]"
   ],
   "metadata": {
    "collapsed": false,
    "pycharm": {
     "name": "#%%\n"
    }
   }
  }
 ],
 "metadata": {
  "kernelspec": {
   "display_name": "Python 3",
   "language": "python",
   "name": "python3"
  },
  "language_info": {
   "codemirror_mode": {
    "name": "ipython",
    "version": 2
   },
   "file_extension": ".py",
   "mimetype": "text/x-python",
   "name": "python",
   "nbconvert_exporter": "python",
   "pygments_lexer": "ipython2",
   "version": "2.7.6"
  }
 },
 "nbformat": 4,
 "nbformat_minor": 0
}