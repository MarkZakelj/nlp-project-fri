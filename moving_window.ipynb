{
 "cells": [
  {
   "cell_type": "code",
   "execution_count": 2,
   "outputs": [
    {
     "name": "stderr",
     "output_type": "stream",
     "text": [
      "2022-05-28 12:38:47.701750: I tensorflow/stream_executor/platform/default/dso_loader.cc:49] Successfully opened dynamic library libcudart.so.11.0\n"
     ]
    }
   ],
   "source": [
    "import pandas as pd\n",
    "from transformers import BertTokenizer, BertPreTrainedModel, AdamW, AutoTokenizer, BertConfig, BertModel\n",
    "from rbert_model import RBERT\n",
    "import os\n",
    "import numpy as np\n",
    "from rbert_data_loader import load_and_cache_examples\n",
    "from train_relation_extraction import RelationExtractorTrainer, get_tokenizer, model_id_to_path\n",
    "from rbert_data_loader import TermFrameProcessor, convert_examples_to_features\n",
    "import torch\n",
    "from scipy.special import softmax"
   ],
   "metadata": {
    "collapsed": false,
    "pycharm": {
     "name": "#%%\n"
    }
   }
  },
  {
   "cell_type": "code",
   "execution_count": 3,
   "outputs": [],
   "source": [
    "device = torch.device('cuda')"
   ],
   "metadata": {
    "collapsed": false,
    "pycharm": {
     "name": "#%%\n"
    }
   }
  },
  {
   "cell_type": "code",
   "execution_count": 4,
   "outputs": [
    {
     "data": {
      "text/plain": "device(type='cuda')"
     },
     "execution_count": 4,
     "metadata": {},
     "output_type": "execute_result"
    }
   ],
   "source": [
    "device"
   ],
   "metadata": {
    "collapsed": false,
    "pycharm": {
     "name": "#%%\n"
    }
   }
  },
  {
   "cell_type": "code",
   "execution_count": 432,
   "outputs": [],
   "source": [
    "conf = {'experiment': 'SL_reg_nonhier+def',\n",
    "        'model_id': 'EMBEDDIA/crosloengual-bert',\n",
    "        'max_length': 128,\n",
    "        'batch_size': 4,\n",
    "        'epochs': 5}\n",
    "conf['model_dir'] = os.path.join('data', 'experiments', conf['experiment'], model_id_to_path(conf['model_id']))\n",
    "conf['eval_dir'] = conf['model_dir']\n",
    "conf['data_dir'] = os.path.join('data', 'experiments', conf['experiment'])"
   ],
   "metadata": {
    "collapsed": false,
    "pycharm": {
     "name": "#%%\n"
    }
   }
  },
  {
   "cell_type": "code",
   "execution_count": 433,
   "outputs": [],
   "source": [
    "tokenizer = get_tokenizer(conf['model_id'])"
   ],
   "metadata": {
    "collapsed": false,
    "pycharm": {
     "name": "#%%\n"
    }
   }
  },
  {
   "cell_type": "code",
   "execution_count": 434,
   "outputs": [],
   "source": [
    "processor = TermFrameProcessor(conf)"
   ],
   "metadata": {
    "collapsed": false,
    "pycharm": {
     "name": "#%%\n"
    }
   }
  },
  {
   "cell_type": "code",
   "execution_count": 435,
   "outputs": [],
   "source": [
    "args = torch.load(os.path.join(conf['model_dir'], \"training_args.bin\"))\n",
    "model = RBERT.from_pretrained(os.path.join(conf['model_dir'], 'model.pt'), args=args)\n",
    "model.to(device);"
   ],
   "metadata": {
    "collapsed": false,
    "pycharm": {
     "name": "#%%\n"
    }
   }
  },
  {
   "cell_type": "code",
   "execution_count": 463,
   "outputs": [],
   "source": [
    "sentence = \"<e1> Uvala </e1> je večja kraška globel skledaste oblike z neravnim dnom in sklenjenim višjim obodom . Praviloma je manjša od kraškega polja in večja od vrtače .\"\n",
    "pure_sentence = sentence.replace('<e1> ', '').replace('</e1> ', '').split(' ')\n",
    "\n",
    "i1 = sentence.find('<e1>')\n",
    "i2 = sentence.find('</e1>')\n",
    "words_before = sentence[:i1].strip().split(' ')\n",
    "words_inside = sentence[i1 + 5:i2].strip().split(' ')\n",
    "words_after = sentence[i2 + 5:].strip().split(' ')\n",
    "for wo in [words_before, words_inside, words_after]:\n",
    "    if '' in wo:\n",
    "        wo.remove('')"
   ],
   "metadata": {
    "collapsed": false,
    "pycharm": {
     "name": "#%%\n"
    }
   }
  },
  {
   "cell_type": "code",
   "execution_count": 481,
   "outputs": [],
   "source": [
    "word_class_scores = np.zeros((len(pure_sentence), len(processor.relation_labels)))\n",
    "for window_size in [1, 2]:\n",
    "    lines = []\n",
    "    word_masks = []\n",
    "    idx1 = 0\n",
    "    for i in range(len(words_before) - window_size + 1):\n",
    "        idx2 = idx1 + window_size\n",
    "        e2_before = words_before[:idx1] + ['<e2>'] + words_before[idx1:idx2] + ['</e2>'] + words_before[idx2:]\n",
    "        lines.append(['Other', ' '.join(e2_before) + ' ' + sentence[i1:]])\n",
    "        word_masks.append(list(range(idx1, idx2)))\n",
    "        idx1 += 1\n",
    "    idx1 = 0\n",
    "    offset = len(words_before) + len(words_inside)\n",
    "    for i in range(window_size, len(words_after)):\n",
    "        idx2 = idx1 + window_size\n",
    "        e2_after = words_after[:idx1] + ['<e2>'] + words_after[idx1:idx2] + ['</e2>'] + words_after[idx2:]\n",
    "        lines.append(['Other', sentence[:i2 + 5] + ' ' + ' '.join(e2_after)])\n",
    "        word_masks.append(list(range(idx1 + offset, idx2 + offset)))\n",
    "        idx1 += 1\n",
    "    examples = processor._create_examples(lines, 'train')\n",
    "    features = convert_examples_to_features(\n",
    "        examples, conf['max_length'], tokenizer, add_sep_token=False\n",
    "    )\n",
    "\n",
    "    all_input_ids = torch.tensor([f.input_ids for f in features], dtype=torch.long, device=device)\n",
    "    all_attention_mask = torch.tensor([f.attention_mask for f in features], dtype=torch.long, device=device)\n",
    "    all_token_type_ids = torch.tensor([f.token_type_ids for f in features], dtype=torch.long, device=device)\n",
    "    all_e1_mask = torch.tensor([f.e1_mask for f in features], dtype=torch.long, device=device)  # add e1 mask\n",
    "    all_e2_mask = torch.tensor([f.e2_mask for f in features], dtype=torch.long, device=device)  # add e2 mask\n",
    "\n",
    "    all_label_ids = torch.tensor([f.label_id for f in features], dtype=torch.long, device=device)\n",
    "    model.eval();\n",
    "    # for i in range(len(all_input_ids))\n",
    "    with torch.no_grad():\n",
    "        outputs = model(all_input_ids, all_attention_mask, all_token_type_ids, None, all_e1_mask, all_e2_mask)\n",
    "        logits = outputs[0].detach().cpu().numpy()\n",
    "        probs = softmax(logits, axis=1)\n",
    "    logits = outputs[0].detach().cpu().numpy()\n",
    "    logits[logits < 7] = 0\n",
    "    for idx in range(logits.shape[0]):\n",
    "        word_class_scores[word_masks[idx]] += logits[idx, :]"
   ],
   "metadata": {
    "collapsed": false,
    "pycharm": {
     "name": "#%%\n"
    }
   }
  },
  {
   "cell_type": "code",
   "execution_count": 485,
   "outputs": [
    {
     "data": {
      "text/plain": "array([[ 0.        ,  0.        ,  0.        ,  0.        ,  0.        ,\n         0.        ,  0.        ],\n       [ 0.        ,  0.        ,  0.        ,  0.        ,  0.        ,\n         0.        , 15.75531721],\n       [ 0.        ,  0.        ,  0.        ,  0.        ,  0.        ,\n         0.        , 23.16911125],\n       [ 0.        ,  0.        ,  0.        ,  0.        ,  0.        ,\n         0.        ,  7.35302114],\n       [ 0.        ,  0.        ,  0.        , 17.06823254,  0.        ,\n         0.        ,  0.        ],\n       [ 0.        ,  0.        ,  0.        , 26.40349102,  0.        ,\n         0.        ,  0.        ],\n       [ 0.        ,  0.        ,  0.        , 26.41017342,  0.        ,\n         0.        ,  0.        ],\n       [ 0.        ,  0.        ,  0.        , 26.54001331,  0.        ,\n         0.        ,  0.        ],\n       [ 0.        ,  0.        ,  0.        , 26.49033928,  0.        ,\n         0.        ,  0.        ],\n       [ 0.        ,  0.        ,  0.        , 26.50185394,  0.        ,\n         0.        ,  0.        ],\n       [ 0.        ,  0.        ,  0.        , 26.58596897,  0.        ,\n         0.        ,  0.        ],\n       [ 0.        ,  0.        ,  0.        , 26.6266737 ,  0.        ,\n         0.        ,  0.        ],\n       [ 0.        ,  0.        ,  0.        , 25.79581547,  0.        ,\n         0.        ,  0.        ],\n       [ 0.        ,  0.        ,  0.        , 26.71567535,  0.        ,\n         0.        ,  0.        ],\n       [ 0.        ,  0.        ,  0.        , 24.65892792,  0.        ,\n         0.        ,  0.        ],\n       [ 0.        ,  0.        ,  0.        ,  7.11087513,  0.        ,\n         0.        ,  7.88412571],\n       [ 0.        ,  0.        ,  0.        ,  0.        ,  0.        ,\n         0.        , 23.69591951],\n       [ 0.        ,  0.        ,  0.        ,  0.        ,  0.        ,\n         0.        , 23.76639843],\n       [ 0.        ,  0.        ,  0.        ,  0.        ,  0.        ,\n         0.        , 23.65563297],\n       [ 0.        ,  0.        ,  0.        ,  0.        ,  0.        ,\n         0.        ,  7.87273264],\n       [ 0.        ,  0.        ,  0.        ,  0.        ,  0.        ,\n         0.        ,  7.87922812],\n       [ 0.        ,  0.        ,  0.        ,  0.        ,  0.        ,\n         0.        , 23.66246605],\n       [ 0.        ,  0.        ,  0.        ,  0.        ,  0.        ,\n         0.        , 23.75527859],\n       [ 0.        ,  0.        ,  0.        ,  0.        ,  0.        ,\n         0.        , 23.42646027],\n       [ 0.        ,  0.        ,  0.        ,  7.36402082,  0.        ,\n         0.        ,  7.60586119],\n       [ 0.        ,  0.        ,  0.        ,  0.        ,  0.        ,\n         0.        ,  0.        ]])"
     },
     "execution_count": 485,
     "metadata": {},
     "output_type": "execute_result"
    }
   ],
   "source": [
    "word_class_scores"
   ],
   "metadata": {
    "collapsed": false,
    "pycharm": {
     "name": "#%%\n"
    }
   }
  },
  {
   "cell_type": "code",
   "execution_count": 482,
   "outputs": [],
   "source": [
    "res = [(word, processor.relation_labels[np.argmax(score)], np.max(score)) for word, score in\n",
    "       zip(pure_sentence, word_class_scores)]"
   ],
   "metadata": {
    "collapsed": false,
    "pycharm": {
     "name": "#%%\n"
    }
   }
  },
  {
   "cell_type": "code",
   "execution_count": 483,
   "outputs": [],
   "source": [
    "df = pd.DataFrame.from_records(res, columns=[\"Word\", 'non-hierarchical', 'score'])"
   ],
   "metadata": {
    "collapsed": false,
    "pycharm": {
     "name": "#%%\n"
    }
   }
  },
  {
   "cell_type": "code",
   "execution_count": 484,
   "outputs": [
    {
     "data": {
      "text/plain": "          Word non-hierarchical      score\n0        Uvala            Other   0.000000\n1           je         HAS_SIZE  15.755317\n2        večja         HAS_SIZE  23.169111\n3       kraška         HAS_SIZE   7.353021\n4       globel         HAS_FORM  17.068233\n5    skledaste         HAS_FORM  26.403491\n6       oblike         HAS_FORM  26.410173\n7            z         HAS_FORM  26.540013\n8     neravnim         HAS_FORM  26.490339\n9         dnom         HAS_FORM  26.501854\n10          in         HAS_FORM  26.585969\n11  sklenjenim         HAS_FORM  26.626674\n12      višjim         HAS_FORM  25.795815\n13      obodom         HAS_FORM  26.715675\n14           .         HAS_FORM  24.658928\n15   Praviloma         HAS_SIZE   7.884126\n16          je         HAS_SIZE  23.695920\n17      manjša         HAS_SIZE  23.766398\n18          od         HAS_SIZE  23.655633\n19    kraškega         HAS_SIZE   7.872733\n20       polja         HAS_SIZE   7.879228\n21          in         HAS_SIZE  23.662466\n22       večja         HAS_SIZE  23.755279\n23          od         HAS_SIZE  23.426460\n24      vrtače         HAS_SIZE   7.605861\n25           .            Other   0.000000",
      "text/html": "<div>\n<style scoped>\n    .dataframe tbody tr th:only-of-type {\n        vertical-align: middle;\n    }\n\n    .dataframe tbody tr th {\n        vertical-align: top;\n    }\n\n    .dataframe thead th {\n        text-align: right;\n    }\n</style>\n<table border=\"1\" class=\"dataframe\">\n  <thead>\n    <tr style=\"text-align: right;\">\n      <th></th>\n      <th>Word</th>\n      <th>non-hierarchical</th>\n      <th>score</th>\n    </tr>\n  </thead>\n  <tbody>\n    <tr>\n      <th>0</th>\n      <td>Uvala</td>\n      <td>Other</td>\n      <td>0.000000</td>\n    </tr>\n    <tr>\n      <th>1</th>\n      <td>je</td>\n      <td>HAS_SIZE</td>\n      <td>15.755317</td>\n    </tr>\n    <tr>\n      <th>2</th>\n      <td>večja</td>\n      <td>HAS_SIZE</td>\n      <td>23.169111</td>\n    </tr>\n    <tr>\n      <th>3</th>\n      <td>kraška</td>\n      <td>HAS_SIZE</td>\n      <td>7.353021</td>\n    </tr>\n    <tr>\n      <th>4</th>\n      <td>globel</td>\n      <td>HAS_FORM</td>\n      <td>17.068233</td>\n    </tr>\n    <tr>\n      <th>5</th>\n      <td>skledaste</td>\n      <td>HAS_FORM</td>\n      <td>26.403491</td>\n    </tr>\n    <tr>\n      <th>6</th>\n      <td>oblike</td>\n      <td>HAS_FORM</td>\n      <td>26.410173</td>\n    </tr>\n    <tr>\n      <th>7</th>\n      <td>z</td>\n      <td>HAS_FORM</td>\n      <td>26.540013</td>\n    </tr>\n    <tr>\n      <th>8</th>\n      <td>neravnim</td>\n      <td>HAS_FORM</td>\n      <td>26.490339</td>\n    </tr>\n    <tr>\n      <th>9</th>\n      <td>dnom</td>\n      <td>HAS_FORM</td>\n      <td>26.501854</td>\n    </tr>\n    <tr>\n      <th>10</th>\n      <td>in</td>\n      <td>HAS_FORM</td>\n      <td>26.585969</td>\n    </tr>\n    <tr>\n      <th>11</th>\n      <td>sklenjenim</td>\n      <td>HAS_FORM</td>\n      <td>26.626674</td>\n    </tr>\n    <tr>\n      <th>12</th>\n      <td>višjim</td>\n      <td>HAS_FORM</td>\n      <td>25.795815</td>\n    </tr>\n    <tr>\n      <th>13</th>\n      <td>obodom</td>\n      <td>HAS_FORM</td>\n      <td>26.715675</td>\n    </tr>\n    <tr>\n      <th>14</th>\n      <td>.</td>\n      <td>HAS_FORM</td>\n      <td>24.658928</td>\n    </tr>\n    <tr>\n      <th>15</th>\n      <td>Praviloma</td>\n      <td>HAS_SIZE</td>\n      <td>7.884126</td>\n    </tr>\n    <tr>\n      <th>16</th>\n      <td>je</td>\n      <td>HAS_SIZE</td>\n      <td>23.695920</td>\n    </tr>\n    <tr>\n      <th>17</th>\n      <td>manjša</td>\n      <td>HAS_SIZE</td>\n      <td>23.766398</td>\n    </tr>\n    <tr>\n      <th>18</th>\n      <td>od</td>\n      <td>HAS_SIZE</td>\n      <td>23.655633</td>\n    </tr>\n    <tr>\n      <th>19</th>\n      <td>kraškega</td>\n      <td>HAS_SIZE</td>\n      <td>7.872733</td>\n    </tr>\n    <tr>\n      <th>20</th>\n      <td>polja</td>\n      <td>HAS_SIZE</td>\n      <td>7.879228</td>\n    </tr>\n    <tr>\n      <th>21</th>\n      <td>in</td>\n      <td>HAS_SIZE</td>\n      <td>23.662466</td>\n    </tr>\n    <tr>\n      <th>22</th>\n      <td>večja</td>\n      <td>HAS_SIZE</td>\n      <td>23.755279</td>\n    </tr>\n    <tr>\n      <th>23</th>\n      <td>od</td>\n      <td>HAS_SIZE</td>\n      <td>23.426460</td>\n    </tr>\n    <tr>\n      <th>24</th>\n      <td>vrtače</td>\n      <td>HAS_SIZE</td>\n      <td>7.605861</td>\n    </tr>\n    <tr>\n      <th>25</th>\n      <td>.</td>\n      <td>Other</td>\n      <td>0.000000</td>\n    </tr>\n  </tbody>\n</table>\n</div>"
     },
     "execution_count": 484,
     "metadata": {},
     "output_type": "execute_result"
    }
   ],
   "source": [
    "df"
   ],
   "metadata": {
    "collapsed": false,
    "pycharm": {
     "name": "#%%\n"
    }
   }
  },
  {
   "cell_type": "code",
   "execution_count": 468,
   "outputs": [],
   "source": [
    "df = pd.read_csv('data/full_data_new_SL.csv')"
   ],
   "metadata": {
    "collapsed": false,
    "pycharm": {
     "name": "#%%\n"
    }
   }
  },
  {
   "cell_type": "code",
   "execution_count": 472,
   "outputs": [
    {
     "data": {
      "text/plain": "    Sentence        Word              category hierarchical non-hierarchical  \\\n53         2       Uvala  A.1_Surface_landform  DEFINIENDUM              NaN   \n54         2          je                   NaN    DEFINITOR              NaN   \n55         2       večja                   NaN          NaN         HAS_SIZE   \n56         2      kraška                   NaN        GENUS              NaN   \n57         2      globel  A.1_Surface_landform        GENUS              NaN   \n58         2   skledaste                   NaN          NaN         HAS_FORM   \n59         2      oblike                   NaN          NaN         HAS_FORM   \n60         2           z                   NaN          NaN         HAS_FORM   \n61         2    neravnim                   NaN          NaN         HAS_FORM   \n62         2        dnom                   NaN          NaN         HAS_FORM   \n63         2          in                   NaN          NaN         HAS_FORM   \n64         2  sklenjenim                   NaN          NaN         HAS_FORM   \n65         2      višjim                   NaN          NaN         HAS_FORM   \n66         2      obodom                   NaN          NaN         HAS_FORM   \n67         2           .                   NaN          NaN              NaN   \n68         2   Praviloma                   NaN          NaN              NaN   \n69         2          je                   NaN          NaN              NaN   \n70         2      manjša                   NaN          NaN         HAS_SIZE   \n71         2          od                   NaN          NaN         HAS_SIZE   \n72         2    kraškega  A.1_Surface_landform          NaN         HAS_SIZE   \n73         2       polja  A.1_Surface_landform          NaN         HAS_SIZE   \n74         2          in                   NaN          NaN              NaN   \n75         2       večja                   NaN          NaN         HAS_SIZE   \n76         2          od                   NaN          NaN         HAS_SIZE   \n77         2      vrtače  A.1_Surface_landform          NaN         HAS_SIZE   \n78         2           .                   NaN          NaN              NaN   \n\n   non-hierarchical-definitor  \n53                        NaN  \n54                        NaN  \n55                        NaN  \n56                        NaN  \n57                        NaN  \n58                        NaN  \n59                 frame_FORM  \n60                        NaN  \n61                        NaN  \n62                        NaN  \n63                        NaN  \n64                        NaN  \n65                        NaN  \n66                        NaN  \n67                        NaN  \n68                        NaN  \n69                        NaN  \n70                        NaN  \n71                        NaN  \n72                        NaN  \n73                        NaN  \n74                        NaN  \n75                        NaN  \n76                        NaN  \n77                        NaN  \n78                        NaN  ",
      "text/html": "<div>\n<style scoped>\n    .dataframe tbody tr th:only-of-type {\n        vertical-align: middle;\n    }\n\n    .dataframe tbody tr th {\n        vertical-align: top;\n    }\n\n    .dataframe thead th {\n        text-align: right;\n    }\n</style>\n<table border=\"1\" class=\"dataframe\">\n  <thead>\n    <tr style=\"text-align: right;\">\n      <th></th>\n      <th>Sentence</th>\n      <th>Word</th>\n      <th>category</th>\n      <th>hierarchical</th>\n      <th>non-hierarchical</th>\n      <th>non-hierarchical-definitor</th>\n    </tr>\n  </thead>\n  <tbody>\n    <tr>\n      <th>53</th>\n      <td>2</td>\n      <td>Uvala</td>\n      <td>A.1_Surface_landform</td>\n      <td>DEFINIENDUM</td>\n      <td>NaN</td>\n      <td>NaN</td>\n    </tr>\n    <tr>\n      <th>54</th>\n      <td>2</td>\n      <td>je</td>\n      <td>NaN</td>\n      <td>DEFINITOR</td>\n      <td>NaN</td>\n      <td>NaN</td>\n    </tr>\n    <tr>\n      <th>55</th>\n      <td>2</td>\n      <td>večja</td>\n      <td>NaN</td>\n      <td>NaN</td>\n      <td>HAS_SIZE</td>\n      <td>NaN</td>\n    </tr>\n    <tr>\n      <th>56</th>\n      <td>2</td>\n      <td>kraška</td>\n      <td>NaN</td>\n      <td>GENUS</td>\n      <td>NaN</td>\n      <td>NaN</td>\n    </tr>\n    <tr>\n      <th>57</th>\n      <td>2</td>\n      <td>globel</td>\n      <td>A.1_Surface_landform</td>\n      <td>GENUS</td>\n      <td>NaN</td>\n      <td>NaN</td>\n    </tr>\n    <tr>\n      <th>58</th>\n      <td>2</td>\n      <td>skledaste</td>\n      <td>NaN</td>\n      <td>NaN</td>\n      <td>HAS_FORM</td>\n      <td>NaN</td>\n    </tr>\n    <tr>\n      <th>59</th>\n      <td>2</td>\n      <td>oblike</td>\n      <td>NaN</td>\n      <td>NaN</td>\n      <td>HAS_FORM</td>\n      <td>frame_FORM</td>\n    </tr>\n    <tr>\n      <th>60</th>\n      <td>2</td>\n      <td>z</td>\n      <td>NaN</td>\n      <td>NaN</td>\n      <td>HAS_FORM</td>\n      <td>NaN</td>\n    </tr>\n    <tr>\n      <th>61</th>\n      <td>2</td>\n      <td>neravnim</td>\n      <td>NaN</td>\n      <td>NaN</td>\n      <td>HAS_FORM</td>\n      <td>NaN</td>\n    </tr>\n    <tr>\n      <th>62</th>\n      <td>2</td>\n      <td>dnom</td>\n      <td>NaN</td>\n      <td>NaN</td>\n      <td>HAS_FORM</td>\n      <td>NaN</td>\n    </tr>\n    <tr>\n      <th>63</th>\n      <td>2</td>\n      <td>in</td>\n      <td>NaN</td>\n      <td>NaN</td>\n      <td>HAS_FORM</td>\n      <td>NaN</td>\n    </tr>\n    <tr>\n      <th>64</th>\n      <td>2</td>\n      <td>sklenjenim</td>\n      <td>NaN</td>\n      <td>NaN</td>\n      <td>HAS_FORM</td>\n      <td>NaN</td>\n    </tr>\n    <tr>\n      <th>65</th>\n      <td>2</td>\n      <td>višjim</td>\n      <td>NaN</td>\n      <td>NaN</td>\n      <td>HAS_FORM</td>\n      <td>NaN</td>\n    </tr>\n    <tr>\n      <th>66</th>\n      <td>2</td>\n      <td>obodom</td>\n      <td>NaN</td>\n      <td>NaN</td>\n      <td>HAS_FORM</td>\n      <td>NaN</td>\n    </tr>\n    <tr>\n      <th>67</th>\n      <td>2</td>\n      <td>.</td>\n      <td>NaN</td>\n      <td>NaN</td>\n      <td>NaN</td>\n      <td>NaN</td>\n    </tr>\n    <tr>\n      <th>68</th>\n      <td>2</td>\n      <td>Praviloma</td>\n      <td>NaN</td>\n      <td>NaN</td>\n      <td>NaN</td>\n      <td>NaN</td>\n    </tr>\n    <tr>\n      <th>69</th>\n      <td>2</td>\n      <td>je</td>\n      <td>NaN</td>\n      <td>NaN</td>\n      <td>NaN</td>\n      <td>NaN</td>\n    </tr>\n    <tr>\n      <th>70</th>\n      <td>2</td>\n      <td>manjša</td>\n      <td>NaN</td>\n      <td>NaN</td>\n      <td>HAS_SIZE</td>\n      <td>NaN</td>\n    </tr>\n    <tr>\n      <th>71</th>\n      <td>2</td>\n      <td>od</td>\n      <td>NaN</td>\n      <td>NaN</td>\n      <td>HAS_SIZE</td>\n      <td>NaN</td>\n    </tr>\n    <tr>\n      <th>72</th>\n      <td>2</td>\n      <td>kraškega</td>\n      <td>A.1_Surface_landform</td>\n      <td>NaN</td>\n      <td>HAS_SIZE</td>\n      <td>NaN</td>\n    </tr>\n    <tr>\n      <th>73</th>\n      <td>2</td>\n      <td>polja</td>\n      <td>A.1_Surface_landform</td>\n      <td>NaN</td>\n      <td>HAS_SIZE</td>\n      <td>NaN</td>\n    </tr>\n    <tr>\n      <th>74</th>\n      <td>2</td>\n      <td>in</td>\n      <td>NaN</td>\n      <td>NaN</td>\n      <td>NaN</td>\n      <td>NaN</td>\n    </tr>\n    <tr>\n      <th>75</th>\n      <td>2</td>\n      <td>večja</td>\n      <td>NaN</td>\n      <td>NaN</td>\n      <td>HAS_SIZE</td>\n      <td>NaN</td>\n    </tr>\n    <tr>\n      <th>76</th>\n      <td>2</td>\n      <td>od</td>\n      <td>NaN</td>\n      <td>NaN</td>\n      <td>HAS_SIZE</td>\n      <td>NaN</td>\n    </tr>\n    <tr>\n      <th>77</th>\n      <td>2</td>\n      <td>vrtače</td>\n      <td>A.1_Surface_landform</td>\n      <td>NaN</td>\n      <td>HAS_SIZE</td>\n      <td>NaN</td>\n    </tr>\n    <tr>\n      <th>78</th>\n      <td>2</td>\n      <td>.</td>\n      <td>NaN</td>\n      <td>NaN</td>\n      <td>NaN</td>\n      <td>NaN</td>\n    </tr>\n  </tbody>\n</table>\n</div>"
     },
     "execution_count": 472,
     "metadata": {},
     "output_type": "execute_result"
    }
   ],
   "source": [
    "df[df['Sentence'] ==2]"
   ],
   "metadata": {
    "collapsed": false,
    "pycharm": {
     "name": "#%%\n"
    }
   }
  },
  {
   "cell_type": "code",
   "execution_count": 121,
   "outputs": [],
   "source": [
    "df = pd.DataFrame(logits, columns=processor.relation_labels)"
   ],
   "metadata": {
    "collapsed": false,
    "pycharm": {
     "name": "#%%\n"
    }
   }
  },
  {
   "cell_type": "code",
   "execution_count": 122,
   "outputs": [
    {
     "data": {
      "text/plain": "    Other  HAS_CAUSE  HAS_LOCATION  HAS_FORM  COMPOSITION_MEDIUM  \\\n0     0.0        0.0      0.000000  7.875909            0.000000   \n1     0.0        0.0      0.000000  0.000000            0.000000   \n2     0.0        0.0      0.000000  0.000000            0.000000   \n3     0.0        0.0      0.000000  0.000000            0.000000   \n4     0.0        0.0      0.000000  8.230618            0.000000   \n5     0.0        0.0      0.000000  9.190335            0.000000   \n6     0.0        0.0      0.000000  8.368140            0.000000   \n7     0.0        0.0      0.000000  0.000000            0.000000   \n8     0.0        0.0      0.000000  0.000000            7.919581   \n9     0.0        0.0      0.000000  0.000000            5.230893   \n10    0.0        0.0      7.789890  0.000000            0.000000   \n11    0.0        0.0      7.083308  0.000000            0.000000   \n12    0.0        0.0      6.276859  0.000000            0.000000   \n13    0.0        0.0      0.000000  0.000000            0.000000   \n14    0.0        0.0      0.000000  0.000000            0.000000   \n\n    HAS_FUNCTION  HAS_SIZE  \n0       0.000000  0.000000  \n1       0.000000  7.471579  \n2       0.000000  5.942061  \n3       0.000000  5.583723  \n4       0.000000  0.000000  \n5       0.000000  0.000000  \n6       0.000000  0.000000  \n7       0.000000  0.000000  \n8       0.000000  0.000000  \n9       0.000000  0.000000  \n10      0.000000  0.000000  \n11      0.000000  0.000000  \n12      0.000000  0.000000  \n13      5.771631  0.000000  \n14      6.280258  0.000000  ",
      "text/html": "<div>\n<style scoped>\n    .dataframe tbody tr th:only-of-type {\n        vertical-align: middle;\n    }\n\n    .dataframe tbody tr th {\n        vertical-align: top;\n    }\n\n    .dataframe thead th {\n        text-align: right;\n    }\n</style>\n<table border=\"1\" class=\"dataframe\">\n  <thead>\n    <tr style=\"text-align: right;\">\n      <th></th>\n      <th>Other</th>\n      <th>HAS_CAUSE</th>\n      <th>HAS_LOCATION</th>\n      <th>HAS_FORM</th>\n      <th>COMPOSITION_MEDIUM</th>\n      <th>HAS_FUNCTION</th>\n      <th>HAS_SIZE</th>\n    </tr>\n  </thead>\n  <tbody>\n    <tr>\n      <th>0</th>\n      <td>0.0</td>\n      <td>0.0</td>\n      <td>0.000000</td>\n      <td>7.875909</td>\n      <td>0.000000</td>\n      <td>0.000000</td>\n      <td>0.000000</td>\n    </tr>\n    <tr>\n      <th>1</th>\n      <td>0.0</td>\n      <td>0.0</td>\n      <td>0.000000</td>\n      <td>0.000000</td>\n      <td>0.000000</td>\n      <td>0.000000</td>\n      <td>7.471579</td>\n    </tr>\n    <tr>\n      <th>2</th>\n      <td>0.0</td>\n      <td>0.0</td>\n      <td>0.000000</td>\n      <td>0.000000</td>\n      <td>0.000000</td>\n      <td>0.000000</td>\n      <td>5.942061</td>\n    </tr>\n    <tr>\n      <th>3</th>\n      <td>0.0</td>\n      <td>0.0</td>\n      <td>0.000000</td>\n      <td>0.000000</td>\n      <td>0.000000</td>\n      <td>0.000000</td>\n      <td>5.583723</td>\n    </tr>\n    <tr>\n      <th>4</th>\n      <td>0.0</td>\n      <td>0.0</td>\n      <td>0.000000</td>\n      <td>8.230618</td>\n      <td>0.000000</td>\n      <td>0.000000</td>\n      <td>0.000000</td>\n    </tr>\n    <tr>\n      <th>5</th>\n      <td>0.0</td>\n      <td>0.0</td>\n      <td>0.000000</td>\n      <td>9.190335</td>\n      <td>0.000000</td>\n      <td>0.000000</td>\n      <td>0.000000</td>\n    </tr>\n    <tr>\n      <th>6</th>\n      <td>0.0</td>\n      <td>0.0</td>\n      <td>0.000000</td>\n      <td>8.368140</td>\n      <td>0.000000</td>\n      <td>0.000000</td>\n      <td>0.000000</td>\n    </tr>\n    <tr>\n      <th>7</th>\n      <td>0.0</td>\n      <td>0.0</td>\n      <td>0.000000</td>\n      <td>0.000000</td>\n      <td>0.000000</td>\n      <td>0.000000</td>\n      <td>0.000000</td>\n    </tr>\n    <tr>\n      <th>8</th>\n      <td>0.0</td>\n      <td>0.0</td>\n      <td>0.000000</td>\n      <td>0.000000</td>\n      <td>7.919581</td>\n      <td>0.000000</td>\n      <td>0.000000</td>\n    </tr>\n    <tr>\n      <th>9</th>\n      <td>0.0</td>\n      <td>0.0</td>\n      <td>0.000000</td>\n      <td>0.000000</td>\n      <td>5.230893</td>\n      <td>0.000000</td>\n      <td>0.000000</td>\n    </tr>\n    <tr>\n      <th>10</th>\n      <td>0.0</td>\n      <td>0.0</td>\n      <td>7.789890</td>\n      <td>0.000000</td>\n      <td>0.000000</td>\n      <td>0.000000</td>\n      <td>0.000000</td>\n    </tr>\n    <tr>\n      <th>11</th>\n      <td>0.0</td>\n      <td>0.0</td>\n      <td>7.083308</td>\n      <td>0.000000</td>\n      <td>0.000000</td>\n      <td>0.000000</td>\n      <td>0.000000</td>\n    </tr>\n    <tr>\n      <th>12</th>\n      <td>0.0</td>\n      <td>0.0</td>\n      <td>6.276859</td>\n      <td>0.000000</td>\n      <td>0.000000</td>\n      <td>0.000000</td>\n      <td>0.000000</td>\n    </tr>\n    <tr>\n      <th>13</th>\n      <td>0.0</td>\n      <td>0.0</td>\n      <td>0.000000</td>\n      <td>0.000000</td>\n      <td>0.000000</td>\n      <td>5.771631</td>\n      <td>0.000000</td>\n    </tr>\n    <tr>\n      <th>14</th>\n      <td>0.0</td>\n      <td>0.0</td>\n      <td>0.000000</td>\n      <td>0.000000</td>\n      <td>0.000000</td>\n      <td>6.280258</td>\n      <td>0.000000</td>\n    </tr>\n  </tbody>\n</table>\n</div>"
     },
     "execution_count": 122,
     "metadata": {},
     "output_type": "execute_result"
    }
   ],
   "source": [
    "df"
   ],
   "metadata": {
    "collapsed": false,
    "pycharm": {
     "name": "#%%\n"
    }
   }
  },
  {
   "cell_type": "code",
   "execution_count": 120,
   "outputs": [
    {
     "name": "stdout",
     "output_type": "stream",
     "text": [
      "0 Geer moraines or <e1> washboard moraines </e1> <e2> are series of small and </e2> roughly parallel ridges of till that are ordinarily associated with lakes or former lakes .\n",
      "1 Geer moraines or <e1> washboard moraines </e1> are <e2> series of small and roughly </e2> parallel ridges of till that are ordinarily associated with lakes or former lakes .\n",
      "2 Geer moraines or <e1> washboard moraines </e1> are series <e2> of small and roughly parallel </e2> ridges of till that are ordinarily associated with lakes or former lakes .\n",
      "3 Geer moraines or <e1> washboard moraines </e1> are series of <e2> small and roughly parallel ridges </e2> of till that are ordinarily associated with lakes or former lakes .\n",
      "4 Geer moraines or <e1> washboard moraines </e1> are series of small <e2> and roughly parallel ridges of </e2> till that are ordinarily associated with lakes or former lakes .\n",
      "5 Geer moraines or <e1> washboard moraines </e1> are series of small and <e2> roughly parallel ridges of till </e2> that are ordinarily associated with lakes or former lakes .\n",
      "6 Geer moraines or <e1> washboard moraines </e1> are series of small and roughly <e2> parallel ridges of till that </e2> are ordinarily associated with lakes or former lakes .\n",
      "7 Geer moraines or <e1> washboard moraines </e1> are series of small and roughly parallel <e2> ridges of till that are </e2> ordinarily associated with lakes or former lakes .\n",
      "8 Geer moraines or <e1> washboard moraines </e1> are series of small and roughly parallel ridges <e2> of till that are ordinarily </e2> associated with lakes or former lakes .\n",
      "9 Geer moraines or <e1> washboard moraines </e1> are series of small and roughly parallel ridges of <e2> till that are ordinarily associated </e2> with lakes or former lakes .\n",
      "10 Geer moraines or <e1> washboard moraines </e1> are series of small and roughly parallel ridges of till <e2> that are ordinarily associated with </e2> lakes or former lakes .\n",
      "11 Geer moraines or <e1> washboard moraines </e1> are series of small and roughly parallel ridges of till that <e2> are ordinarily associated with lakes </e2> or former lakes .\n",
      "12 Geer moraines or <e1> washboard moraines </e1> are series of small and roughly parallel ridges of till that are <e2> ordinarily associated with lakes or </e2> former lakes .\n",
      "13 Geer moraines or <e1> washboard moraines </e1> are series of small and roughly parallel ridges of till that are ordinarily <e2> associated with lakes or former </e2> lakes .\n",
      "14 Geer moraines or <e1> washboard moraines </e1> are series of small and roughly parallel ridges of till that are ordinarily associated <e2> with lakes or former lakes </e2> .\n"
     ]
    }
   ],
   "source": [
    "for l in range(len(lines)):\n",
    "    print(l, lines[l][1])"
   ],
   "metadata": {
    "collapsed": false,
    "pycharm": {
     "name": "#%%\n"
    }
   }
  },
  {
   "cell_type": "code",
   "execution_count": 1,
   "outputs": [
    {
     "ename": "NameError",
     "evalue": "name 'all_e2_mask' is not defined",
     "output_type": "error",
     "traceback": [
      "\u001B[0;31m---------------------------------------------------------------------------\u001B[0m",
      "\u001B[0;31mNameError\u001B[0m                                 Traceback (most recent call last)",
      "\u001B[0;32m/tmp/ipykernel_33247/3409984573.py\u001B[0m in \u001B[0;36m<module>\u001B[0;34m\u001B[0m\n\u001B[0;32m----> 1\u001B[0;31m \u001B[0mall_e2_mask\u001B[0m\u001B[0;34m[\u001B[0m\u001B[0;36m7\u001B[0m\u001B[0;34m]\u001B[0m\u001B[0;34m\u001B[0m\u001B[0;34m\u001B[0m\u001B[0m\n\u001B[0m",
      "\u001B[0;31mNameError\u001B[0m: name 'all_e2_mask' is not defined"
     ]
    }
   ],
   "source": [
    "all_e2_mask[7]"
   ],
   "metadata": {
    "collapsed": false,
    "pycharm": {
     "name": "#%%\n"
    }
   }
  },
  {
   "cell_type": "code",
   "execution_count": 51,
   "outputs": [],
   "source": [
    "max_vals = np.max(logits, axis=1)\n",
    "arg_max = np.argmax(logits, axis=1)"
   ],
   "metadata": {
    "collapsed": false,
    "pycharm": {
     "name": "#%%\n"
    }
   }
  },
  {
   "cell_type": "code",
   "execution_count": 63,
   "outputs": [
    {
     "data": {
      "text/plain": "['Other',\n 'Geer moraines or <e1> washboard moraines </e1> are series of small and roughly parallel ridges of till that are <e2> ordinarily associated with </e2> lakes or former lakes .']"
     },
     "execution_count": 63,
     "metadata": {},
     "output_type": "execute_result"
    }
   ],
   "source": [
    "lines[10]"
   ],
   "metadata": {
    "collapsed": false,
    "pycharm": {
     "name": "#%%\n"
    }
   }
  },
  {
   "cell_type": "code",
   "execution_count": 42,
   "outputs": [
    {
     "data": {
      "text/plain": "['Other',\n 'HAS_CAUSE',\n 'HAS_LOCATION',\n 'HAS_FORM',\n 'COMPOSITION_MEDIUM',\n 'HAS_FUNCTION',\n 'HAS_SIZE']"
     },
     "execution_count": 42,
     "metadata": {},
     "output_type": "execute_result"
    }
   ],
   "source": [
    "processor.relation_labels"
   ],
   "metadata": {
    "collapsed": false,
    "pycharm": {
     "name": "#%%\n"
    }
   }
  },
  {
   "cell_type": "code",
   "execution_count": 56,
   "outputs": [],
   "source": [
    "df = pd.read_csv('data/full_data_new_EN.csv')"
   ],
   "metadata": {
    "collapsed": false,
    "pycharm": {
     "name": "#%%\n"
    }
   }
  },
  {
   "cell_type": "code",
   "execution_count": 61,
   "outputs": [
    {
     "data": {
      "text/plain": "      Sentence        Word   category hierarchical non-hierarchical  \\\n1703        79        Geer  A.4_Other  DEFINIENDUM              NaN   \n1704        79    moraines  A.4_Other  DEFINIENDUM              NaN   \n1705        79          or        NaN          NaN              NaN   \n1706        79   washboard  A.4_Other  DEFINIENDUM              NaN   \n1707        79    moraines  A.4_Other  DEFINIENDUM              NaN   \n1708        79         are        NaN    DEFINITOR              NaN   \n1709        79      series        NaN          NaN              NaN   \n1710        79          of        NaN          NaN              NaN   \n1711        79       small        NaN          NaN         HAS_SIZE   \n1712        79         and        NaN          NaN              NaN   \n1713        79     roughly        NaN          NaN         HAS_FORM   \n1714        79    parallel        NaN          NaN         HAS_FORM   \n1715        79      ridges        NaN        GENUS              NaN   \n1716        79          of        NaN        GENUS              NaN   \n1717        79        till        NaN        GENUS              NaN   \n1718        79        that        NaN          NaN              NaN   \n1719        79         are        NaN          NaN              NaN   \n1720        79  ordinarily        NaN          NaN              NaN   \n1721        79  associated        NaN          NaN        HAS_CAUSE   \n1722        79        with        NaN          NaN        HAS_CAUSE   \n1723        79       lakes        NaN          NaN        HAS_CAUSE   \n1724        79          or        NaN          NaN        HAS_CAUSE   \n1725        79      former        NaN          NaN        HAS_CAUSE   \n1726        79       lakes        NaN          NaN        HAS_CAUSE   \n1727        79           .        NaN          NaN              NaN   \n\n     non-hierarchical-definitor  \n1703                        NaN  \n1704                        NaN  \n1705                        NaN  \n1706                        NaN  \n1707                        NaN  \n1708                        NaN  \n1709                        NaN  \n1710                        NaN  \n1711                        NaN  \n1712                        NaN  \n1713                        NaN  \n1714                        NaN  \n1715                        NaN  \n1716                        NaN  \n1717                        NaN  \n1718                        NaN  \n1719                        NaN  \n1720                        NaN  \n1721                        NaN  \n1722                        NaN  \n1723                        NaN  \n1724                        NaN  \n1725                        NaN  \n1726                        NaN  \n1727                        NaN  ",
      "text/html": "<div>\n<style scoped>\n    .dataframe tbody tr th:only-of-type {\n        vertical-align: middle;\n    }\n\n    .dataframe tbody tr th {\n        vertical-align: top;\n    }\n\n    .dataframe thead th {\n        text-align: right;\n    }\n</style>\n<table border=\"1\" class=\"dataframe\">\n  <thead>\n    <tr style=\"text-align: right;\">\n      <th></th>\n      <th>Sentence</th>\n      <th>Word</th>\n      <th>category</th>\n      <th>hierarchical</th>\n      <th>non-hierarchical</th>\n      <th>non-hierarchical-definitor</th>\n    </tr>\n  </thead>\n  <tbody>\n    <tr>\n      <th>1703</th>\n      <td>79</td>\n      <td>Geer</td>\n      <td>A.4_Other</td>\n      <td>DEFINIENDUM</td>\n      <td>NaN</td>\n      <td>NaN</td>\n    </tr>\n    <tr>\n      <th>1704</th>\n      <td>79</td>\n      <td>moraines</td>\n      <td>A.4_Other</td>\n      <td>DEFINIENDUM</td>\n      <td>NaN</td>\n      <td>NaN</td>\n    </tr>\n    <tr>\n      <th>1705</th>\n      <td>79</td>\n      <td>or</td>\n      <td>NaN</td>\n      <td>NaN</td>\n      <td>NaN</td>\n      <td>NaN</td>\n    </tr>\n    <tr>\n      <th>1706</th>\n      <td>79</td>\n      <td>washboard</td>\n      <td>A.4_Other</td>\n      <td>DEFINIENDUM</td>\n      <td>NaN</td>\n      <td>NaN</td>\n    </tr>\n    <tr>\n      <th>1707</th>\n      <td>79</td>\n      <td>moraines</td>\n      <td>A.4_Other</td>\n      <td>DEFINIENDUM</td>\n      <td>NaN</td>\n      <td>NaN</td>\n    </tr>\n    <tr>\n      <th>1708</th>\n      <td>79</td>\n      <td>are</td>\n      <td>NaN</td>\n      <td>DEFINITOR</td>\n      <td>NaN</td>\n      <td>NaN</td>\n    </tr>\n    <tr>\n      <th>1709</th>\n      <td>79</td>\n      <td>series</td>\n      <td>NaN</td>\n      <td>NaN</td>\n      <td>NaN</td>\n      <td>NaN</td>\n    </tr>\n    <tr>\n      <th>1710</th>\n      <td>79</td>\n      <td>of</td>\n      <td>NaN</td>\n      <td>NaN</td>\n      <td>NaN</td>\n      <td>NaN</td>\n    </tr>\n    <tr>\n      <th>1711</th>\n      <td>79</td>\n      <td>small</td>\n      <td>NaN</td>\n      <td>NaN</td>\n      <td>HAS_SIZE</td>\n      <td>NaN</td>\n    </tr>\n    <tr>\n      <th>1712</th>\n      <td>79</td>\n      <td>and</td>\n      <td>NaN</td>\n      <td>NaN</td>\n      <td>NaN</td>\n      <td>NaN</td>\n    </tr>\n    <tr>\n      <th>1713</th>\n      <td>79</td>\n      <td>roughly</td>\n      <td>NaN</td>\n      <td>NaN</td>\n      <td>HAS_FORM</td>\n      <td>NaN</td>\n    </tr>\n    <tr>\n      <th>1714</th>\n      <td>79</td>\n      <td>parallel</td>\n      <td>NaN</td>\n      <td>NaN</td>\n      <td>HAS_FORM</td>\n      <td>NaN</td>\n    </tr>\n    <tr>\n      <th>1715</th>\n      <td>79</td>\n      <td>ridges</td>\n      <td>NaN</td>\n      <td>GENUS</td>\n      <td>NaN</td>\n      <td>NaN</td>\n    </tr>\n    <tr>\n      <th>1716</th>\n      <td>79</td>\n      <td>of</td>\n      <td>NaN</td>\n      <td>GENUS</td>\n      <td>NaN</td>\n      <td>NaN</td>\n    </tr>\n    <tr>\n      <th>1717</th>\n      <td>79</td>\n      <td>till</td>\n      <td>NaN</td>\n      <td>GENUS</td>\n      <td>NaN</td>\n      <td>NaN</td>\n    </tr>\n    <tr>\n      <th>1718</th>\n      <td>79</td>\n      <td>that</td>\n      <td>NaN</td>\n      <td>NaN</td>\n      <td>NaN</td>\n      <td>NaN</td>\n    </tr>\n    <tr>\n      <th>1719</th>\n      <td>79</td>\n      <td>are</td>\n      <td>NaN</td>\n      <td>NaN</td>\n      <td>NaN</td>\n      <td>NaN</td>\n    </tr>\n    <tr>\n      <th>1720</th>\n      <td>79</td>\n      <td>ordinarily</td>\n      <td>NaN</td>\n      <td>NaN</td>\n      <td>NaN</td>\n      <td>NaN</td>\n    </tr>\n    <tr>\n      <th>1721</th>\n      <td>79</td>\n      <td>associated</td>\n      <td>NaN</td>\n      <td>NaN</td>\n      <td>HAS_CAUSE</td>\n      <td>NaN</td>\n    </tr>\n    <tr>\n      <th>1722</th>\n      <td>79</td>\n      <td>with</td>\n      <td>NaN</td>\n      <td>NaN</td>\n      <td>HAS_CAUSE</td>\n      <td>NaN</td>\n    </tr>\n    <tr>\n      <th>1723</th>\n      <td>79</td>\n      <td>lakes</td>\n      <td>NaN</td>\n      <td>NaN</td>\n      <td>HAS_CAUSE</td>\n      <td>NaN</td>\n    </tr>\n    <tr>\n      <th>1724</th>\n      <td>79</td>\n      <td>or</td>\n      <td>NaN</td>\n      <td>NaN</td>\n      <td>HAS_CAUSE</td>\n      <td>NaN</td>\n    </tr>\n    <tr>\n      <th>1725</th>\n      <td>79</td>\n      <td>former</td>\n      <td>NaN</td>\n      <td>NaN</td>\n      <td>HAS_CAUSE</td>\n      <td>NaN</td>\n    </tr>\n    <tr>\n      <th>1726</th>\n      <td>79</td>\n      <td>lakes</td>\n      <td>NaN</td>\n      <td>NaN</td>\n      <td>HAS_CAUSE</td>\n      <td>NaN</td>\n    </tr>\n    <tr>\n      <th>1727</th>\n      <td>79</td>\n      <td>.</td>\n      <td>NaN</td>\n      <td>NaN</td>\n      <td>NaN</td>\n      <td>NaN</td>\n    </tr>\n  </tbody>\n</table>\n</div>"
     },
     "execution_count": 61,
     "metadata": {},
     "output_type": "execute_result"
    }
   ],
   "source": [
    "df[df['Sentence'] == 79]"
   ],
   "metadata": {
    "collapsed": false,
    "pycharm": {
     "name": "#%%\n"
    }
   }
  },
  {
   "cell_type": "code",
   "execution_count": 19,
   "outputs": [
    {
     "data": {
      "text/plain": "[['Other',\n  '<e2> Geer moraines or </e2> <e1> washboard moraines </e1> are series of small and roughly parallel ridges of till that are ordinarily associated with lakes or former lakes .'],\n ['Other',\n  'Geer moraines or <e1> washboard moraines </e1> are series of <e2> small and roughly </e2> parallel ridges of till that are ordinarily associated with lakes or former lakes .'],\n ['Other',\n  'Geer moraines or <e1> washboard moraines </e1> are series of small <e2> and roughly parallel </e2> ridges of till that are ordinarily associated with lakes or former lakes .'],\n ['Other',\n  'Geer moraines or <e1> washboard moraines </e1> are series of small and <e2> roughly parallel ridges </e2> of till that are ordinarily associated with lakes or former lakes .'],\n ['Other',\n  'Geer moraines or <e1> washboard moraines </e1> are series of small and roughly <e2> parallel ridges of </e2> till that are ordinarily associated with lakes or former lakes .'],\n ['Other',\n  'Geer moraines or <e1> washboard moraines </e1> are series of small and roughly parallel <e2> ridges of till </e2> that are ordinarily associated with lakes or former lakes .'],\n ['Other',\n  'Geer moraines or <e1> washboard moraines </e1> are series of small and roughly parallel ridges <e2> of till that </e2> are ordinarily associated with lakes or former lakes .'],\n ['Other',\n  'Geer moraines or <e1> washboard moraines </e1> are series of small and roughly parallel ridges of <e2> till that are </e2> ordinarily associated with lakes or former lakes .'],\n ['Other',\n  'Geer moraines or <e1> washboard moraines </e1> are series of small and roughly parallel ridges of till <e2> that are ordinarily </e2> associated with lakes or former lakes .'],\n ['Other',\n  'Geer moraines or <e1> washboard moraines </e1> are series of small and roughly parallel ridges of till that <e2> are ordinarily associated </e2> with lakes or former lakes .'],\n ['Other',\n  'Geer moraines or <e1> washboard moraines </e1> are series of small and roughly parallel ridges of till that are <e2> ordinarily associated with </e2> lakes or former lakes .'],\n ['Other',\n  'Geer moraines or <e1> washboard moraines </e1> are series of small and roughly parallel ridges of till that are ordinarily <e2> associated with lakes </e2> or former lakes .'],\n ['Other',\n  'Geer moraines or <e1> washboard moraines </e1> are series of small and roughly parallel ridges of till that are ordinarily associated <e2> with lakes or </e2> former lakes .'],\n ['Other',\n  'Geer moraines or <e1> washboard moraines </e1> are series of small and roughly parallel ridges of till that are ordinarily associated with <e2> lakes or former </e2> lakes .'],\n ['Other',\n  'Geer moraines or <e1> washboard moraines </e1> are series of small and roughly parallel ridges of till that are ordinarily associated with lakes <e2> or former lakes </e2> .'],\n ['HAS_FUNCTION',\n  '<e1> Grab samplers </e1> are buckets or segments that <e2> drive into the sediment layer and enclose and retain a layer </e2> .']]"
     },
     "execution_count": 19,
     "metadata": {},
     "output_type": "execute_result"
    }
   ],
   "source": [
    "lines"
   ],
   "metadata": {
    "collapsed": false,
    "pycharm": {
     "name": "#%%\n"
    }
   }
  },
  {
   "cell_type": "code",
   "execution_count": null,
   "outputs": [],
   "source": [],
   "metadata": {
    "collapsed": false,
    "pycharm": {
     "name": "#%%\n"
    }
   }
  }
 ],
 "metadata": {
  "kernelspec": {
   "display_name": "Python 3",
   "language": "python",
   "name": "python3"
  },
  "language_info": {
   "codemirror_mode": {
    "name": "ipython",
    "version": 2
   },
   "file_extension": ".py",
   "mimetype": "text/x-python",
   "name": "python",
   "nbconvert_exporter": "python",
   "pygments_lexer": "ipython2",
   "version": "2.7.6"
  }
 },
 "nbformat": 4,
 "nbformat_minor": 0
}